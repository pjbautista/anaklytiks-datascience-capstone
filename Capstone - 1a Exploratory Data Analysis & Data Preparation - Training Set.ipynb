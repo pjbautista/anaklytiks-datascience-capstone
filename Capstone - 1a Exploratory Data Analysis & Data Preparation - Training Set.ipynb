{
 "cells": [
  {
   "cell_type": "markdown",
   "metadata": {},
   "source": [
    "# Intrustion Detection System\n",
    "## Network Traffic Classification"
   ]
  },
  {
   "cell_type": "markdown",
   "metadata": {},
   "source": [
    "<b>Dataset:</b> <i>CSC IDS 2018</i><br>\n",
    "<a href=\"./Datasets/Thursday-15-02-2018_TrafficForML_CICFlowMeter.csv\">Description</a>\n",
    "\n",
    "<b>Target Variable:</b> <i>Label</i> \n",
    "* Benign\n",
    "* DoS attacks-GoldenEye\n",
    "* DoS attacks-Slowloris\n",
    "* Brute Force -Web\n",
    "* Brute Force -XSS \n",
    "* SQL Injection            \n",
    "* Infilteration   \n",
    "\n",
    "\n",
    "<b>Key Objectives:</b>\n",
    "1. Import Libraries & Load Dataset \n",
    "2. Describe Data \n",
    "3. Verify Data Quality\n",
    "4. Data Preparation \n",
    "5. Convert Objects to Numerical \n",
    "6. Export Data"
   ]
  },
  {
   "cell_type": "markdown",
   "metadata": {},
   "source": [
    "## Import Libraries"
   ]
  },
  {
   "cell_type": "markdown",
   "metadata": {},
   "source": [
    "### Standard Libraries"
   ]
  },
  {
   "cell_type": "code",
   "execution_count": 1,
   "metadata": {},
   "outputs": [],
   "source": [
    "import numpy as np\n",
    "import pandas as pd\n",
    "import matplotlib.pyplot as plt\n",
    "import seaborn as sns\n",
    "sns.set_style(\"whitegrid\")\n",
    "sns.set_context(\"poster\")\n",
    "\n",
    "%matplotlib inline"
   ]
  },
  {
   "cell_type": "code",
   "execution_count": 2,
   "metadata": {},
   "outputs": [],
   "source": [
    "#ignore warnings\n",
    "import warnings\n",
    "warnings.filterwarnings('ignore')"
   ]
  },
  {
   "cell_type": "markdown",
   "metadata": {},
   "source": [
    "## Load dataset"
   ]
  },
  {
   "cell_type": "markdown",
   "metadata": {},
   "source": [
    "* Specify the Parameters (Filepath, Index Column)\n",
    "* Check for Date-Time Columns to Parse Dates\n",
    "* Check Encoding if file does not load correctly"
   ]
  },
  {
   "cell_type": "code",
   "execution_count": 3,
   "metadata": {},
   "outputs": [],
   "source": [
    "#provide the path of the dataset\n",
    "df = pd.read_csv(\"./Datasets/Thursday-15-02-2018_TrafficForML_CICFlowMeter.csv\")\n",
    "\n",
    "\n",
    "#df = pd.read_csv(\"./Datasets/Thursday-01-03-2018_TrafficForML_CICFlowMeter.csv\")\n",
    "\n",
    "# df = pd.read_csv(\"../../../Downloads/CSC IDS 2018/Tuesday-20-02-2018_TrafficForML_CICFlowMeter.csv\")\n",
    "# df_big = pd.read_csv(\"../../../Downloads/CSC IDS 2018/Tuesday-20-02-2018_TrafficForML_CICFlowMeter.csv\")\n",
    "#df20180222 = pd.read_csv(\"./Datasets/Thursday-22-02-2018_TrafficForML_CICFlowMeter.csv\")\n",
    "#df20180301 = pd.read_csv(\"./Datasets/Thursday-01-03-2018_TrafficForML_CICFlowMeter.csv\")"
   ]
  },
  {
   "cell_type": "markdown",
   "metadata": {},
   "source": [
    "## Describe the Data"
   ]
  },
  {
   "cell_type": "code",
   "execution_count": 4,
   "metadata": {},
   "outputs": [
    {
     "data": {
      "text/html": [
       "<div>\n",
       "<style scoped>\n",
       "    .dataframe tbody tr th:only-of-type {\n",
       "        vertical-align: middle;\n",
       "    }\n",
       "\n",
       "    .dataframe tbody tr th {\n",
       "        vertical-align: top;\n",
       "    }\n",
       "\n",
       "    .dataframe thead th {\n",
       "        text-align: right;\n",
       "    }\n",
       "</style>\n",
       "<table border=\"1\" class=\"dataframe\">\n",
       "  <thead>\n",
       "    <tr style=\"text-align: right;\">\n",
       "      <th></th>\n",
       "      <th>Dst Port</th>\n",
       "      <th>Protocol</th>\n",
       "      <th>Timestamp</th>\n",
       "      <th>Flow Duration</th>\n",
       "      <th>Tot Fwd Pkts</th>\n",
       "      <th>Tot Bwd Pkts</th>\n",
       "      <th>TotLen Fwd Pkts</th>\n",
       "      <th>TotLen Bwd Pkts</th>\n",
       "      <th>Fwd Pkt Len Max</th>\n",
       "      <th>Fwd Pkt Len Min</th>\n",
       "      <th>...</th>\n",
       "      <th>Fwd Seg Size Min</th>\n",
       "      <th>Active Mean</th>\n",
       "      <th>Active Std</th>\n",
       "      <th>Active Max</th>\n",
       "      <th>Active Min</th>\n",
       "      <th>Idle Mean</th>\n",
       "      <th>Idle Std</th>\n",
       "      <th>Idle Max</th>\n",
       "      <th>Idle Min</th>\n",
       "      <th>Label</th>\n",
       "    </tr>\n",
       "  </thead>\n",
       "  <tbody>\n",
       "    <tr>\n",
       "      <td>0</td>\n",
       "      <td>0</td>\n",
       "      <td>0</td>\n",
       "      <td>15/02/2018 08:25:18</td>\n",
       "      <td>112641158</td>\n",
       "      <td>3</td>\n",
       "      <td>0</td>\n",
       "      <td>0</td>\n",
       "      <td>0</td>\n",
       "      <td>0</td>\n",
       "      <td>0</td>\n",
       "      <td>...</td>\n",
       "      <td>0</td>\n",
       "      <td>0.0</td>\n",
       "      <td>0.000000</td>\n",
       "      <td>0</td>\n",
       "      <td>0</td>\n",
       "      <td>56320579.0</td>\n",
       "      <td>7.042784e+02</td>\n",
       "      <td>56321077</td>\n",
       "      <td>56320081</td>\n",
       "      <td>Benign</td>\n",
       "    </tr>\n",
       "    <tr>\n",
       "      <td>1</td>\n",
       "      <td>22</td>\n",
       "      <td>6</td>\n",
       "      <td>15/02/2018 08:29:05</td>\n",
       "      <td>37366762</td>\n",
       "      <td>14</td>\n",
       "      <td>12</td>\n",
       "      <td>2168</td>\n",
       "      <td>2993</td>\n",
       "      <td>712</td>\n",
       "      <td>0</td>\n",
       "      <td>...</td>\n",
       "      <td>32</td>\n",
       "      <td>1024353.0</td>\n",
       "      <td>649038.754495</td>\n",
       "      <td>1601183</td>\n",
       "      <td>321569</td>\n",
       "      <td>11431221.0</td>\n",
       "      <td>3.644991e+06</td>\n",
       "      <td>15617415</td>\n",
       "      <td>8960247</td>\n",
       "      <td>Benign</td>\n",
       "    </tr>\n",
       "    <tr>\n",
       "      <td>2</td>\n",
       "      <td>47514</td>\n",
       "      <td>6</td>\n",
       "      <td>15/02/2018 08:29:42</td>\n",
       "      <td>543</td>\n",
       "      <td>2</td>\n",
       "      <td>0</td>\n",
       "      <td>64</td>\n",
       "      <td>0</td>\n",
       "      <td>64</td>\n",
       "      <td>0</td>\n",
       "      <td>...</td>\n",
       "      <td>32</td>\n",
       "      <td>0.0</td>\n",
       "      <td>0.000000</td>\n",
       "      <td>0</td>\n",
       "      <td>0</td>\n",
       "      <td>0.0</td>\n",
       "      <td>0.000000e+00</td>\n",
       "      <td>0</td>\n",
       "      <td>0</td>\n",
       "      <td>Benign</td>\n",
       "    </tr>\n",
       "    <tr>\n",
       "      <td>3</td>\n",
       "      <td>0</td>\n",
       "      <td>0</td>\n",
       "      <td>15/02/2018 08:28:07</td>\n",
       "      <td>112640703</td>\n",
       "      <td>3</td>\n",
       "      <td>0</td>\n",
       "      <td>0</td>\n",
       "      <td>0</td>\n",
       "      <td>0</td>\n",
       "      <td>0</td>\n",
       "      <td>...</td>\n",
       "      <td>0</td>\n",
       "      <td>0.0</td>\n",
       "      <td>0.000000</td>\n",
       "      <td>0</td>\n",
       "      <td>0</td>\n",
       "      <td>56320351.5</td>\n",
       "      <td>3.669884e+02</td>\n",
       "      <td>56320611</td>\n",
       "      <td>56320092</td>\n",
       "      <td>Benign</td>\n",
       "    </tr>\n",
       "    <tr>\n",
       "      <td>4</td>\n",
       "      <td>0</td>\n",
       "      <td>0</td>\n",
       "      <td>15/02/2018 08:30:56</td>\n",
       "      <td>112640874</td>\n",
       "      <td>3</td>\n",
       "      <td>0</td>\n",
       "      <td>0</td>\n",
       "      <td>0</td>\n",
       "      <td>0</td>\n",
       "      <td>0</td>\n",
       "      <td>...</td>\n",
       "      <td>0</td>\n",
       "      <td>0.0</td>\n",
       "      <td>0.000000</td>\n",
       "      <td>0</td>\n",
       "      <td>0</td>\n",
       "      <td>56320437.0</td>\n",
       "      <td>7.198347e+02</td>\n",
       "      <td>56320946</td>\n",
       "      <td>56319928</td>\n",
       "      <td>Benign</td>\n",
       "    </tr>\n",
       "  </tbody>\n",
       "</table>\n",
       "<p>5 rows × 80 columns</p>\n",
       "</div>"
      ],
      "text/plain": [
       "   Dst Port  Protocol            Timestamp  Flow Duration  Tot Fwd Pkts  \\\n",
       "0         0         0  15/02/2018 08:25:18      112641158             3   \n",
       "1        22         6  15/02/2018 08:29:05       37366762            14   \n",
       "2     47514         6  15/02/2018 08:29:42            543             2   \n",
       "3         0         0  15/02/2018 08:28:07      112640703             3   \n",
       "4         0         0  15/02/2018 08:30:56      112640874             3   \n",
       "\n",
       "   Tot Bwd Pkts  TotLen Fwd Pkts  TotLen Bwd Pkts  Fwd Pkt Len Max  \\\n",
       "0             0                0                0                0   \n",
       "1            12             2168             2993              712   \n",
       "2             0               64                0               64   \n",
       "3             0                0                0                0   \n",
       "4             0                0                0                0   \n",
       "\n",
       "   Fwd Pkt Len Min  ...  Fwd Seg Size Min  Active Mean     Active Std  \\\n",
       "0                0  ...                 0          0.0       0.000000   \n",
       "1                0  ...                32    1024353.0  649038.754495   \n",
       "2                0  ...                32          0.0       0.000000   \n",
       "3                0  ...                 0          0.0       0.000000   \n",
       "4                0  ...                 0          0.0       0.000000   \n",
       "\n",
       "   Active Max  Active Min   Idle Mean      Idle Std  Idle Max  Idle Min  \\\n",
       "0           0           0  56320579.0  7.042784e+02  56321077  56320081   \n",
       "1     1601183      321569  11431221.0  3.644991e+06  15617415   8960247   \n",
       "2           0           0         0.0  0.000000e+00         0         0   \n",
       "3           0           0  56320351.5  3.669884e+02  56320611  56320092   \n",
       "4           0           0  56320437.0  7.198347e+02  56320946  56319928   \n",
       "\n",
       "    Label  \n",
       "0  Benign  \n",
       "1  Benign  \n",
       "2  Benign  \n",
       "3  Benign  \n",
       "4  Benign  \n",
       "\n",
       "[5 rows x 80 columns]"
      ]
     },
     "execution_count": 4,
     "metadata": {},
     "output_type": "execute_result"
    }
   ],
   "source": [
    "# check if data is loaded correctly\n",
    "df.head()"
   ]
  },
  {
   "cell_type": "code",
   "execution_count": 5,
   "metadata": {},
   "outputs": [
    {
     "data": {
      "text/plain": [
       "<bound method NDFrame.describe of          Dst Port  Protocol            Timestamp  Flow Duration  Tot Fwd Pkts  \\\n",
       "0               0         0  15/02/2018 08:25:18      112641158             3   \n",
       "1              22         6  15/02/2018 08:29:05       37366762            14   \n",
       "2           47514         6  15/02/2018 08:29:42            543             2   \n",
       "3               0         0  15/02/2018 08:28:07      112640703             3   \n",
       "4               0         0  15/02/2018 08:30:56      112640874             3   \n",
       "...           ...       ...                  ...            ...           ...   \n",
       "1048570     50111         6  15/02/2018 09:04:42             22             3   \n",
       "1048571       443         6  15/02/2018 09:03:55       54682783             5   \n",
       "1048572       443         6  15/02/2018 09:03:56       53682093             5   \n",
       "1048573       443         6  15/02/2018 09:03:55       54683364             5   \n",
       "1048574       443         6  15/02/2018 09:02:01      116857161            18   \n",
       "\n",
       "         Tot Bwd Pkts  TotLen Fwd Pkts  TotLen Bwd Pkts  Fwd Pkt Len Max  \\\n",
       "0                   0                0                0                0   \n",
       "1                  12             2168             2993              712   \n",
       "2                   0               64                0               64   \n",
       "3                   0                0                0                0   \n",
       "4                   0                0                0                0   \n",
       "...               ...              ...              ...              ...   \n",
       "1048570             0               31                0               31   \n",
       "1048571             1              123               46               46   \n",
       "1048572             1              123               46               46   \n",
       "1048573             1              123               46               46   \n",
       "1048574            17             1066             5265              281   \n",
       "\n",
       "         Fwd Pkt Len Min  ...  Fwd Seg Size Min  Active Mean     Active Std  \\\n",
       "0                      0  ...                 0          0.0       0.000000   \n",
       "1                      0  ...                32    1024353.0  649038.754495   \n",
       "2                      0  ...                32          0.0       0.000000   \n",
       "3                      0  ...                 0          0.0       0.000000   \n",
       "4                      0  ...                 0          0.0       0.000000   \n",
       "...                  ...  ...               ...          ...            ...   \n",
       "1048570                0  ...                20          0.0       0.000000   \n",
       "1048571                0  ...                20     158783.0       0.000000   \n",
       "1048572                0  ...                20     259719.0       0.000000   \n",
       "1048573                0  ...                20     158870.0       0.000000   \n",
       "1048574                0  ...                20     221407.0   48231.753545   \n",
       "\n",
       "         Active Max  Active Min   Idle Mean      Idle Std  Idle Max  Idle Min  \\\n",
       "0                 0           0  56320579.0  7.042784e+02  56321077  56320081   \n",
       "1           1601183      321569  11431221.0  3.644991e+06  15617415   8960247   \n",
       "2                 0           0         0.0  0.000000e+00         0         0   \n",
       "3                 0           0  56320351.5  3.669884e+02  56320611  56320092   \n",
       "4                 0           0  56320437.0  7.198347e+02  56320946  56319928   \n",
       "...             ...         ...         ...           ...       ...       ...   \n",
       "1048570           0           0         0.0  0.000000e+00         0         0   \n",
       "1048571      158783      158783  54523813.0  0.000000e+00  54523813  54523813   \n",
       "1048572      259719      259719  53421756.0  0.000000e+00  53421756  53421756   \n",
       "1048573      158870      158870  54523593.0  0.000000e+00  54523593  54523593   \n",
       "1048574      255512      187302  58082282.0  1.832213e+05  58211839  57952725   \n",
       "\n",
       "          Label  \n",
       "0        Benign  \n",
       "1        Benign  \n",
       "2        Benign  \n",
       "3        Benign  \n",
       "4        Benign  \n",
       "...         ...  \n",
       "1048570  Benign  \n",
       "1048571  Benign  \n",
       "1048572  Benign  \n",
       "1048573  Benign  \n",
       "1048574  Benign  \n",
       "\n",
       "[1048575 rows x 80 columns]>"
      ]
     },
     "execution_count": 5,
     "metadata": {},
     "output_type": "execute_result"
    }
   ],
   "source": [
    "df.describe"
   ]
  },
  {
   "cell_type": "code",
   "execution_count": 6,
   "metadata": {},
   "outputs": [
    {
     "data": {
      "text/plain": [
       "(1048575, 80)"
      ]
     },
     "execution_count": 6,
     "metadata": {},
     "output_type": "execute_result"
    }
   ],
   "source": [
    "# Check the dimensions\n",
    "df.shape\n",
    "\n",
    "# df20180222.shape\n",
    "# (1048575, 80)\n",
    "\n",
    "# df20180301.shape\n",
    "# (331125, 80)\n",
    "\n",
    "# df_big.shape\n",
    "# (7948748, 84)"
   ]
  },
  {
   "cell_type": "code",
   "execution_count": 7,
   "metadata": {},
   "outputs": [
    {
     "name": "stdout",
     "output_type": "stream",
     "text": [
      "<class 'pandas.core.frame.DataFrame'>\n",
      "RangeIndex: 1048575 entries, 0 to 1048574\n",
      "Data columns (total 80 columns):\n",
      "Dst Port             1048575 non-null int64\n",
      "Protocol             1048575 non-null int64\n",
      "Timestamp            1048575 non-null object\n",
      "Flow Duration        1048575 non-null int64\n",
      "Tot Fwd Pkts         1048575 non-null int64\n",
      "Tot Bwd Pkts         1048575 non-null int64\n",
      "TotLen Fwd Pkts      1048575 non-null int64\n",
      "TotLen Bwd Pkts      1048575 non-null int64\n",
      "Fwd Pkt Len Max      1048575 non-null int64\n",
      "Fwd Pkt Len Min      1048575 non-null int64\n",
      "Fwd Pkt Len Mean     1048575 non-null float64\n",
      "Fwd Pkt Len Std      1048575 non-null float64\n",
      "Bwd Pkt Len Max      1048575 non-null int64\n",
      "Bwd Pkt Len Min      1048575 non-null int64\n",
      "Bwd Pkt Len Mean     1048575 non-null float64\n",
      "Bwd Pkt Len Std      1048575 non-null float64\n",
      "Flow Byts/s          1043654 non-null object\n",
      "Flow Pkts/s          1048575 non-null object\n",
      "Flow IAT Mean        1048575 non-null float64\n",
      "Flow IAT Std         1048575 non-null float64\n",
      "Flow IAT Max         1048575 non-null int64\n",
      "Flow IAT Min         1048575 non-null int64\n",
      "Fwd IAT Tot          1048575 non-null int64\n",
      "Fwd IAT Mean         1048575 non-null float64\n",
      "Fwd IAT Std          1048575 non-null float64\n",
      "Fwd IAT Max          1048575 non-null int64\n",
      "Fwd IAT Min          1048575 non-null int64\n",
      "Bwd IAT Tot          1048575 non-null int64\n",
      "Bwd IAT Mean         1048575 non-null float64\n",
      "Bwd IAT Std          1048575 non-null float64\n",
      "Bwd IAT Max          1048575 non-null int64\n",
      "Bwd IAT Min          1048575 non-null int64\n",
      "Fwd PSH Flags        1048575 non-null int64\n",
      "Bwd PSH Flags        1048575 non-null int64\n",
      "Fwd URG Flags        1048575 non-null int64\n",
      "Bwd URG Flags        1048575 non-null int64\n",
      "Fwd Header Len       1048575 non-null int64\n",
      "Bwd Header Len       1048575 non-null int64\n",
      "Fwd Pkts/s           1048575 non-null float64\n",
      "Bwd Pkts/s           1048575 non-null float64\n",
      "Pkt Len Min          1048575 non-null int64\n",
      "Pkt Len Max          1048575 non-null int64\n",
      "Pkt Len Mean         1048575 non-null float64\n",
      "Pkt Len Std          1048575 non-null float64\n",
      "Pkt Len Var          1048575 non-null float64\n",
      "FIN Flag Cnt         1048575 non-null int64\n",
      "SYN Flag Cnt         1048575 non-null int64\n",
      "RST Flag Cnt         1048575 non-null int64\n",
      "PSH Flag Cnt         1048575 non-null int64\n",
      "ACK Flag Cnt         1048575 non-null int64\n",
      "URG Flag Cnt         1048575 non-null int64\n",
      "CWE Flag Count       1048575 non-null int64\n",
      "ECE Flag Cnt         1048575 non-null int64\n",
      "Down/Up Ratio        1048575 non-null int64\n",
      "Pkt Size Avg         1048575 non-null float64\n",
      "Fwd Seg Size Avg     1048575 non-null float64\n",
      "Bwd Seg Size Avg     1048575 non-null float64\n",
      "Fwd Byts/b Avg       1048575 non-null int64\n",
      "Fwd Pkts/b Avg       1048575 non-null int64\n",
      "Fwd Blk Rate Avg     1048575 non-null int64\n",
      "Bwd Byts/b Avg       1048575 non-null int64\n",
      "Bwd Pkts/b Avg       1048575 non-null int64\n",
      "Bwd Blk Rate Avg     1048575 non-null int64\n",
      "Subflow Fwd Pkts     1048575 non-null int64\n",
      "Subflow Fwd Byts     1048575 non-null int64\n",
      "Subflow Bwd Pkts     1048575 non-null int64\n",
      "Subflow Bwd Byts     1048575 non-null int64\n",
      "Init Fwd Win Byts    1048575 non-null int64\n",
      "Init Bwd Win Byts    1048575 non-null int64\n",
      "Fwd Act Data Pkts    1048575 non-null int64\n",
      "Fwd Seg Size Min     1048575 non-null int64\n",
      "Active Mean          1048575 non-null float64\n",
      "Active Std           1048575 non-null float64\n",
      "Active Max           1048575 non-null int64\n",
      "Active Min           1048575 non-null int64\n",
      "Idle Mean            1048575 non-null float64\n",
      "Idle Std             1048575 non-null float64\n",
      "Idle Max             1048575 non-null int64\n",
      "Idle Min             1048575 non-null int64\n",
      "Label                1048575 non-null object\n",
      "dtypes: float64(22), int64(54), object(4)\n",
      "memory usage: 640.0+ MB\n"
     ]
    }
   ],
   "source": [
    "#Check the features\n",
    "df.info()"
   ]
  },
  {
   "cell_type": "code",
   "execution_count": 8,
   "metadata": {},
   "outputs": [
    {
     "data": {
      "text/plain": [
       "Index(['Dst Port', 'Protocol', 'Timestamp', 'Flow Duration', 'Tot Fwd Pkts',\n",
       "       'Tot Bwd Pkts', 'TotLen Fwd Pkts', 'TotLen Bwd Pkts', 'Fwd Pkt Len Max',\n",
       "       'Fwd Pkt Len Min', 'Fwd Pkt Len Mean', 'Fwd Pkt Len Std',\n",
       "       'Bwd Pkt Len Max', 'Bwd Pkt Len Min', 'Bwd Pkt Len Mean',\n",
       "       'Bwd Pkt Len Std', 'Flow Byts/s', 'Flow Pkts/s', 'Flow IAT Mean',\n",
       "       'Flow IAT Std', 'Flow IAT Max', 'Flow IAT Min', 'Fwd IAT Tot',\n",
       "       'Fwd IAT Mean', 'Fwd IAT Std', 'Fwd IAT Max', 'Fwd IAT Min',\n",
       "       'Bwd IAT Tot', 'Bwd IAT Mean', 'Bwd IAT Std', 'Bwd IAT Max',\n",
       "       'Bwd IAT Min', 'Fwd PSH Flags', 'Bwd PSH Flags', 'Fwd URG Flags',\n",
       "       'Bwd URG Flags', 'Fwd Header Len', 'Bwd Header Len', 'Fwd Pkts/s',\n",
       "       'Bwd Pkts/s', 'Pkt Len Min', 'Pkt Len Max', 'Pkt Len Mean',\n",
       "       'Pkt Len Std', 'Pkt Len Var', 'FIN Flag Cnt', 'SYN Flag Cnt',\n",
       "       'RST Flag Cnt', 'PSH Flag Cnt', 'ACK Flag Cnt', 'URG Flag Cnt',\n",
       "       'CWE Flag Count', 'ECE Flag Cnt', 'Down/Up Ratio', 'Pkt Size Avg',\n",
       "       'Fwd Seg Size Avg', 'Bwd Seg Size Avg', 'Fwd Byts/b Avg',\n",
       "       'Fwd Pkts/b Avg', 'Fwd Blk Rate Avg', 'Bwd Byts/b Avg',\n",
       "       'Bwd Pkts/b Avg', 'Bwd Blk Rate Avg', 'Subflow Fwd Pkts',\n",
       "       'Subflow Fwd Byts', 'Subflow Bwd Pkts', 'Subflow Bwd Byts',\n",
       "       'Init Fwd Win Byts', 'Init Bwd Win Byts', 'Fwd Act Data Pkts',\n",
       "       'Fwd Seg Size Min', 'Active Mean', 'Active Std', 'Active Max',\n",
       "       'Active Min', 'Idle Mean', 'Idle Std', 'Idle Max', 'Idle Min', 'Label'],\n",
       "      dtype='object')"
      ]
     },
     "execution_count": 8,
     "metadata": {},
     "output_type": "execute_result"
    }
   ],
   "source": [
    "#Check for Column Names\n",
    "df.columns"
   ]
  },
  {
   "cell_type": "code",
   "execution_count": 9,
   "metadata": {},
   "outputs": [
    {
     "data": {
      "text/html": [
       "<div>\n",
       "<style scoped>\n",
       "    .dataframe tbody tr th:only-of-type {\n",
       "        vertical-align: middle;\n",
       "    }\n",
       "\n",
       "    .dataframe tbody tr th {\n",
       "        vertical-align: top;\n",
       "    }\n",
       "\n",
       "    .dataframe thead th {\n",
       "        text-align: right;\n",
       "    }\n",
       "</style>\n",
       "<table border=\"1\" class=\"dataframe\">\n",
       "  <thead>\n",
       "    <tr style=\"text-align: right;\">\n",
       "      <th></th>\n",
       "      <th>Dst Port</th>\n",
       "      <th>Protocol</th>\n",
       "      <th>Timestamp</th>\n",
       "      <th>Flow Duration</th>\n",
       "      <th>Tot Fwd Pkts</th>\n",
       "      <th>Tot Bwd Pkts</th>\n",
       "      <th>TotLen Fwd Pkts</th>\n",
       "      <th>TotLen Bwd Pkts</th>\n",
       "      <th>Fwd Pkt Len Max</th>\n",
       "      <th>Fwd Pkt Len Min</th>\n",
       "      <th>...</th>\n",
       "      <th>Fwd Seg Size Min</th>\n",
       "      <th>Active Mean</th>\n",
       "      <th>Active Std</th>\n",
       "      <th>Active Max</th>\n",
       "      <th>Active Min</th>\n",
       "      <th>Idle Mean</th>\n",
       "      <th>Idle Std</th>\n",
       "      <th>Idle Max</th>\n",
       "      <th>Idle Min</th>\n",
       "      <th>Label</th>\n",
       "    </tr>\n",
       "  </thead>\n",
       "  <tbody>\n",
       "    <tr>\n",
       "      <td>count</td>\n",
       "      <td>1.048575e+06</td>\n",
       "      <td>1.048575e+06</td>\n",
       "      <td>1048575</td>\n",
       "      <td>1.048575e+06</td>\n",
       "      <td>1.048575e+06</td>\n",
       "      <td>1.048575e+06</td>\n",
       "      <td>1.048575e+06</td>\n",
       "      <td>1.048575e+06</td>\n",
       "      <td>1.048575e+06</td>\n",
       "      <td>1.048575e+06</td>\n",
       "      <td>...</td>\n",
       "      <td>1.048575e+06</td>\n",
       "      <td>1.048575e+06</td>\n",
       "      <td>1.048575e+06</td>\n",
       "      <td>1.048575e+06</td>\n",
       "      <td>1.048575e+06</td>\n",
       "      <td>1.048575e+06</td>\n",
       "      <td>1.048575e+06</td>\n",
       "      <td>1.048575e+06</td>\n",
       "      <td>1.048575e+06</td>\n",
       "      <td>1048575</td>\n",
       "    </tr>\n",
       "    <tr>\n",
       "      <td>unique</td>\n",
       "      <td>NaN</td>\n",
       "      <td>NaN</td>\n",
       "      <td>33862</td>\n",
       "      <td>NaN</td>\n",
       "      <td>NaN</td>\n",
       "      <td>NaN</td>\n",
       "      <td>NaN</td>\n",
       "      <td>NaN</td>\n",
       "      <td>NaN</td>\n",
       "      <td>NaN</td>\n",
       "      <td>...</td>\n",
       "      <td>NaN</td>\n",
       "      <td>NaN</td>\n",
       "      <td>NaN</td>\n",
       "      <td>NaN</td>\n",
       "      <td>NaN</td>\n",
       "      <td>NaN</td>\n",
       "      <td>NaN</td>\n",
       "      <td>NaN</td>\n",
       "      <td>NaN</td>\n",
       "      <td>3</td>\n",
       "    </tr>\n",
       "    <tr>\n",
       "      <td>top</td>\n",
       "      <td>NaN</td>\n",
       "      <td>NaN</td>\n",
       "      <td>15/02/2018 09:53:24</td>\n",
       "      <td>NaN</td>\n",
       "      <td>NaN</td>\n",
       "      <td>NaN</td>\n",
       "      <td>NaN</td>\n",
       "      <td>NaN</td>\n",
       "      <td>NaN</td>\n",
       "      <td>NaN</td>\n",
       "      <td>...</td>\n",
       "      <td>NaN</td>\n",
       "      <td>NaN</td>\n",
       "      <td>NaN</td>\n",
       "      <td>NaN</td>\n",
       "      <td>NaN</td>\n",
       "      <td>NaN</td>\n",
       "      <td>NaN</td>\n",
       "      <td>NaN</td>\n",
       "      <td>NaN</td>\n",
       "      <td>Benign</td>\n",
       "    </tr>\n",
       "    <tr>\n",
       "      <td>freq</td>\n",
       "      <td>NaN</td>\n",
       "      <td>NaN</td>\n",
       "      <td>728</td>\n",
       "      <td>NaN</td>\n",
       "      <td>NaN</td>\n",
       "      <td>NaN</td>\n",
       "      <td>NaN</td>\n",
       "      <td>NaN</td>\n",
       "      <td>NaN</td>\n",
       "      <td>NaN</td>\n",
       "      <td>...</td>\n",
       "      <td>NaN</td>\n",
       "      <td>NaN</td>\n",
       "      <td>NaN</td>\n",
       "      <td>NaN</td>\n",
       "      <td>NaN</td>\n",
       "      <td>NaN</td>\n",
       "      <td>NaN</td>\n",
       "      <td>NaN</td>\n",
       "      <td>NaN</td>\n",
       "      <td>996077</td>\n",
       "    </tr>\n",
       "    <tr>\n",
       "      <td>mean</td>\n",
       "      <td>7.392499e+03</td>\n",
       "      <td>9.518465e+00</td>\n",
       "      <td>NaN</td>\n",
       "      <td>1.430739e+07</td>\n",
       "      <td>5.145998e+00</td>\n",
       "      <td>6.419784e+00</td>\n",
       "      <td>4.354262e+02</td>\n",
       "      <td>4.925884e+03</td>\n",
       "      <td>1.514397e+02</td>\n",
       "      <td>1.397992e+01</td>\n",
       "      <td>...</td>\n",
       "      <td>1.659039e+01</td>\n",
       "      <td>1.122396e+05</td>\n",
       "      <td>4.836921e+04</td>\n",
       "      <td>1.817948e+05</td>\n",
       "      <td>8.320523e+04</td>\n",
       "      <td>4.347475e+06</td>\n",
       "      <td>2.658500e+05</td>\n",
       "      <td>4.616676e+06</td>\n",
       "      <td>4.109270e+06</td>\n",
       "      <td>NaN</td>\n",
       "    </tr>\n",
       "    <tr>\n",
       "      <td>std</td>\n",
       "      <td>1.753869e+04</td>\n",
       "      <td>5.303721e+00</td>\n",
       "      <td>NaN</td>\n",
       "      <td>3.335503e+07</td>\n",
       "      <td>3.379921e+01</td>\n",
       "      <td>9.786280e+01</td>\n",
       "      <td>2.881334e+04</td>\n",
       "      <td>1.399474e+05</td>\n",
       "      <td>2.774302e+02</td>\n",
       "      <td>2.382720e+01</td>\n",
       "      <td>...</td>\n",
       "      <td>7.476644e+00</td>\n",
       "      <td>9.456190e+05</td>\n",
       "      <td>3.772539e+05</td>\n",
       "      <td>1.205154e+06</td>\n",
       "      <td>8.678863e+05</td>\n",
       "      <td>1.422425e+07</td>\n",
       "      <td>2.349741e+06</td>\n",
       "      <td>1.486555e+07</td>\n",
       "      <td>1.398498e+07</td>\n",
       "      <td>NaN</td>\n",
       "    </tr>\n",
       "    <tr>\n",
       "      <td>min</td>\n",
       "      <td>0.000000e+00</td>\n",
       "      <td>0.000000e+00</td>\n",
       "      <td>NaN</td>\n",
       "      <td>0.000000e+00</td>\n",
       "      <td>1.000000e+00</td>\n",
       "      <td>0.000000e+00</td>\n",
       "      <td>0.000000e+00</td>\n",
       "      <td>0.000000e+00</td>\n",
       "      <td>0.000000e+00</td>\n",
       "      <td>0.000000e+00</td>\n",
       "      <td>...</td>\n",
       "      <td>0.000000e+00</td>\n",
       "      <td>0.000000e+00</td>\n",
       "      <td>0.000000e+00</td>\n",
       "      <td>0.000000e+00</td>\n",
       "      <td>0.000000e+00</td>\n",
       "      <td>0.000000e+00</td>\n",
       "      <td>0.000000e+00</td>\n",
       "      <td>0.000000e+00</td>\n",
       "      <td>0.000000e+00</td>\n",
       "      <td>NaN</td>\n",
       "    </tr>\n",
       "    <tr>\n",
       "      <td>25%</td>\n",
       "      <td>5.300000e+01</td>\n",
       "      <td>6.000000e+00</td>\n",
       "      <td>NaN</td>\n",
       "      <td>4.130000e+02</td>\n",
       "      <td>1.000000e+00</td>\n",
       "      <td>1.000000e+00</td>\n",
       "      <td>0.000000e+00</td>\n",
       "      <td>0.000000e+00</td>\n",
       "      <td>0.000000e+00</td>\n",
       "      <td>0.000000e+00</td>\n",
       "      <td>...</td>\n",
       "      <td>8.000000e+00</td>\n",
       "      <td>0.000000e+00</td>\n",
       "      <td>0.000000e+00</td>\n",
       "      <td>0.000000e+00</td>\n",
       "      <td>0.000000e+00</td>\n",
       "      <td>0.000000e+00</td>\n",
       "      <td>0.000000e+00</td>\n",
       "      <td>0.000000e+00</td>\n",
       "      <td>0.000000e+00</td>\n",
       "      <td>NaN</td>\n",
       "    </tr>\n",
       "    <tr>\n",
       "      <td>50%</td>\n",
       "      <td>8.000000e+01</td>\n",
       "      <td>6.000000e+00</td>\n",
       "      <td>NaN</td>\n",
       "      <td>3.689600e+04</td>\n",
       "      <td>2.000000e+00</td>\n",
       "      <td>1.000000e+00</td>\n",
       "      <td>4.400000e+01</td>\n",
       "      <td>9.900000e+01</td>\n",
       "      <td>4.100000e+01</td>\n",
       "      <td>0.000000e+00</td>\n",
       "      <td>...</td>\n",
       "      <td>2.000000e+01</td>\n",
       "      <td>0.000000e+00</td>\n",
       "      <td>0.000000e+00</td>\n",
       "      <td>0.000000e+00</td>\n",
       "      <td>0.000000e+00</td>\n",
       "      <td>0.000000e+00</td>\n",
       "      <td>0.000000e+00</td>\n",
       "      <td>0.000000e+00</td>\n",
       "      <td>0.000000e+00</td>\n",
       "      <td>NaN</td>\n",
       "    </tr>\n",
       "    <tr>\n",
       "      <td>75%</td>\n",
       "      <td>4.450000e+02</td>\n",
       "      <td>1.700000e+01</td>\n",
       "      <td>NaN</td>\n",
       "      <td>3.377079e+06</td>\n",
       "      <td>5.000000e+00</td>\n",
       "      <td>4.000000e+00</td>\n",
       "      <td>3.330000e+02</td>\n",
       "      <td>4.880000e+02</td>\n",
       "      <td>1.610000e+02</td>\n",
       "      <td>3.500000e+01</td>\n",
       "      <td>...</td>\n",
       "      <td>2.000000e+01</td>\n",
       "      <td>0.000000e+00</td>\n",
       "      <td>0.000000e+00</td>\n",
       "      <td>0.000000e+00</td>\n",
       "      <td>0.000000e+00</td>\n",
       "      <td>0.000000e+00</td>\n",
       "      <td>0.000000e+00</td>\n",
       "      <td>0.000000e+00</td>\n",
       "      <td>0.000000e+00</td>\n",
       "      <td>NaN</td>\n",
       "    </tr>\n",
       "    <tr>\n",
       "      <td>max</td>\n",
       "      <td>6.553400e+04</td>\n",
       "      <td>1.700000e+01</td>\n",
       "      <td>NaN</td>\n",
       "      <td>1.200000e+08</td>\n",
       "      <td>9.021000e+03</td>\n",
       "      <td>1.918100e+04</td>\n",
       "      <td>8.737314e+06</td>\n",
       "      <td>2.790523e+07</td>\n",
       "      <td>6.444000e+04</td>\n",
       "      <td>1.460000e+03</td>\n",
       "      <td>...</td>\n",
       "      <td>5.600000e+01</td>\n",
       "      <td>1.119924e+08</td>\n",
       "      <td>6.017711e+07</td>\n",
       "      <td>1.119924e+08</td>\n",
       "      <td>1.119924e+08</td>\n",
       "      <td>1.199915e+08</td>\n",
       "      <td>7.251285e+07</td>\n",
       "      <td>1.199915e+08</td>\n",
       "      <td>1.199915e+08</td>\n",
       "      <td>NaN</td>\n",
       "    </tr>\n",
       "  </tbody>\n",
       "</table>\n",
       "<p>11 rows × 80 columns</p>\n",
       "</div>"
      ],
      "text/plain": [
       "            Dst Port      Protocol            Timestamp  Flow Duration  \\\n",
       "count   1.048575e+06  1.048575e+06              1048575   1.048575e+06   \n",
       "unique           NaN           NaN                33862            NaN   \n",
       "top              NaN           NaN  15/02/2018 09:53:24            NaN   \n",
       "freq             NaN           NaN                  728            NaN   \n",
       "mean    7.392499e+03  9.518465e+00                  NaN   1.430739e+07   \n",
       "std     1.753869e+04  5.303721e+00                  NaN   3.335503e+07   \n",
       "min     0.000000e+00  0.000000e+00                  NaN   0.000000e+00   \n",
       "25%     5.300000e+01  6.000000e+00                  NaN   4.130000e+02   \n",
       "50%     8.000000e+01  6.000000e+00                  NaN   3.689600e+04   \n",
       "75%     4.450000e+02  1.700000e+01                  NaN   3.377079e+06   \n",
       "max     6.553400e+04  1.700000e+01                  NaN   1.200000e+08   \n",
       "\n",
       "        Tot Fwd Pkts  Tot Bwd Pkts  TotLen Fwd Pkts  TotLen Bwd Pkts  \\\n",
       "count   1.048575e+06  1.048575e+06     1.048575e+06     1.048575e+06   \n",
       "unique           NaN           NaN              NaN              NaN   \n",
       "top              NaN           NaN              NaN              NaN   \n",
       "freq             NaN           NaN              NaN              NaN   \n",
       "mean    5.145998e+00  6.419784e+00     4.354262e+02     4.925884e+03   \n",
       "std     3.379921e+01  9.786280e+01     2.881334e+04     1.399474e+05   \n",
       "min     1.000000e+00  0.000000e+00     0.000000e+00     0.000000e+00   \n",
       "25%     1.000000e+00  1.000000e+00     0.000000e+00     0.000000e+00   \n",
       "50%     2.000000e+00  1.000000e+00     4.400000e+01     9.900000e+01   \n",
       "75%     5.000000e+00  4.000000e+00     3.330000e+02     4.880000e+02   \n",
       "max     9.021000e+03  1.918100e+04     8.737314e+06     2.790523e+07   \n",
       "\n",
       "        Fwd Pkt Len Max  Fwd Pkt Len Min  ...  Fwd Seg Size Min   Active Mean  \\\n",
       "count      1.048575e+06     1.048575e+06  ...      1.048575e+06  1.048575e+06   \n",
       "unique              NaN              NaN  ...               NaN           NaN   \n",
       "top                 NaN              NaN  ...               NaN           NaN   \n",
       "freq                NaN              NaN  ...               NaN           NaN   \n",
       "mean       1.514397e+02     1.397992e+01  ...      1.659039e+01  1.122396e+05   \n",
       "std        2.774302e+02     2.382720e+01  ...      7.476644e+00  9.456190e+05   \n",
       "min        0.000000e+00     0.000000e+00  ...      0.000000e+00  0.000000e+00   \n",
       "25%        0.000000e+00     0.000000e+00  ...      8.000000e+00  0.000000e+00   \n",
       "50%        4.100000e+01     0.000000e+00  ...      2.000000e+01  0.000000e+00   \n",
       "75%        1.610000e+02     3.500000e+01  ...      2.000000e+01  0.000000e+00   \n",
       "max        6.444000e+04     1.460000e+03  ...      5.600000e+01  1.119924e+08   \n",
       "\n",
       "          Active Std    Active Max    Active Min     Idle Mean      Idle Std  \\\n",
       "count   1.048575e+06  1.048575e+06  1.048575e+06  1.048575e+06  1.048575e+06   \n",
       "unique           NaN           NaN           NaN           NaN           NaN   \n",
       "top              NaN           NaN           NaN           NaN           NaN   \n",
       "freq             NaN           NaN           NaN           NaN           NaN   \n",
       "mean    4.836921e+04  1.817948e+05  8.320523e+04  4.347475e+06  2.658500e+05   \n",
       "std     3.772539e+05  1.205154e+06  8.678863e+05  1.422425e+07  2.349741e+06   \n",
       "min     0.000000e+00  0.000000e+00  0.000000e+00  0.000000e+00  0.000000e+00   \n",
       "25%     0.000000e+00  0.000000e+00  0.000000e+00  0.000000e+00  0.000000e+00   \n",
       "50%     0.000000e+00  0.000000e+00  0.000000e+00  0.000000e+00  0.000000e+00   \n",
       "75%     0.000000e+00  0.000000e+00  0.000000e+00  0.000000e+00  0.000000e+00   \n",
       "max     6.017711e+07  1.119924e+08  1.119924e+08  1.199915e+08  7.251285e+07   \n",
       "\n",
       "            Idle Max      Idle Min    Label  \n",
       "count   1.048575e+06  1.048575e+06  1048575  \n",
       "unique           NaN           NaN        3  \n",
       "top              NaN           NaN   Benign  \n",
       "freq             NaN           NaN   996077  \n",
       "mean    4.616676e+06  4.109270e+06      NaN  \n",
       "std     1.486555e+07  1.398498e+07      NaN  \n",
       "min     0.000000e+00  0.000000e+00      NaN  \n",
       "25%     0.000000e+00  0.000000e+00      NaN  \n",
       "50%     0.000000e+00  0.000000e+00      NaN  \n",
       "75%     0.000000e+00  0.000000e+00      NaN  \n",
       "max     1.199915e+08  1.199915e+08      NaN  \n",
       "\n",
       "[11 rows x 80 columns]"
      ]
     },
     "execution_count": 9,
     "metadata": {},
     "output_type": "execute_result"
    }
   ],
   "source": [
    "#Get the Stats on the Data\n",
    "df.describe(include='all')"
   ]
  },
  {
   "cell_type": "code",
   "execution_count": 10,
   "metadata": {},
   "outputs": [
    {
     "data": {
      "text/html": [
       "<div>\n",
       "<style scoped>\n",
       "    .dataframe tbody tr th:only-of-type {\n",
       "        vertical-align: middle;\n",
       "    }\n",
       "\n",
       "    .dataframe tbody tr th {\n",
       "        vertical-align: top;\n",
       "    }\n",
       "\n",
       "    .dataframe thead th {\n",
       "        text-align: right;\n",
       "    }\n",
       "</style>\n",
       "<table border=\"1\" class=\"dataframe\">\n",
       "  <thead>\n",
       "    <tr style=\"text-align: right;\">\n",
       "      <th></th>\n",
       "      <th>Dst Port</th>\n",
       "      <th>Protocol</th>\n",
       "      <th>Timestamp</th>\n",
       "      <th>Flow Duration</th>\n",
       "      <th>Tot Fwd Pkts</th>\n",
       "      <th>Tot Bwd Pkts</th>\n",
       "      <th>TotLen Fwd Pkts</th>\n",
       "      <th>TotLen Bwd Pkts</th>\n",
       "      <th>Fwd Pkt Len Max</th>\n",
       "      <th>Fwd Pkt Len Min</th>\n",
       "      <th>...</th>\n",
       "      <th>Fwd Seg Size Min</th>\n",
       "      <th>Active Mean</th>\n",
       "      <th>Active Std</th>\n",
       "      <th>Active Max</th>\n",
       "      <th>Active Min</th>\n",
       "      <th>Idle Mean</th>\n",
       "      <th>Idle Std</th>\n",
       "      <th>Idle Max</th>\n",
       "      <th>Idle Min</th>\n",
       "      <th>Label</th>\n",
       "    </tr>\n",
       "  </thead>\n",
       "  <tbody>\n",
       "    <tr>\n",
       "      <td>1048570</td>\n",
       "      <td>50111</td>\n",
       "      <td>6</td>\n",
       "      <td>15/02/2018 09:04:42</td>\n",
       "      <td>22</td>\n",
       "      <td>3</td>\n",
       "      <td>0</td>\n",
       "      <td>31</td>\n",
       "      <td>0</td>\n",
       "      <td>31</td>\n",
       "      <td>0</td>\n",
       "      <td>...</td>\n",
       "      <td>20</td>\n",
       "      <td>0.0</td>\n",
       "      <td>0.000000</td>\n",
       "      <td>0</td>\n",
       "      <td>0</td>\n",
       "      <td>0.0</td>\n",
       "      <td>0.0000</td>\n",
       "      <td>0</td>\n",
       "      <td>0</td>\n",
       "      <td>Benign</td>\n",
       "    </tr>\n",
       "    <tr>\n",
       "      <td>1048571</td>\n",
       "      <td>443</td>\n",
       "      <td>6</td>\n",
       "      <td>15/02/2018 09:03:55</td>\n",
       "      <td>54682783</td>\n",
       "      <td>5</td>\n",
       "      <td>1</td>\n",
       "      <td>123</td>\n",
       "      <td>46</td>\n",
       "      <td>46</td>\n",
       "      <td>0</td>\n",
       "      <td>...</td>\n",
       "      <td>20</td>\n",
       "      <td>158783.0</td>\n",
       "      <td>0.000000</td>\n",
       "      <td>158783</td>\n",
       "      <td>158783</td>\n",
       "      <td>54523813.0</td>\n",
       "      <td>0.0000</td>\n",
       "      <td>54523813</td>\n",
       "      <td>54523813</td>\n",
       "      <td>Benign</td>\n",
       "    </tr>\n",
       "    <tr>\n",
       "      <td>1048572</td>\n",
       "      <td>443</td>\n",
       "      <td>6</td>\n",
       "      <td>15/02/2018 09:03:56</td>\n",
       "      <td>53682093</td>\n",
       "      <td>5</td>\n",
       "      <td>1</td>\n",
       "      <td>123</td>\n",
       "      <td>46</td>\n",
       "      <td>46</td>\n",
       "      <td>0</td>\n",
       "      <td>...</td>\n",
       "      <td>20</td>\n",
       "      <td>259719.0</td>\n",
       "      <td>0.000000</td>\n",
       "      <td>259719</td>\n",
       "      <td>259719</td>\n",
       "      <td>53421756.0</td>\n",
       "      <td>0.0000</td>\n",
       "      <td>53421756</td>\n",
       "      <td>53421756</td>\n",
       "      <td>Benign</td>\n",
       "    </tr>\n",
       "    <tr>\n",
       "      <td>1048573</td>\n",
       "      <td>443</td>\n",
       "      <td>6</td>\n",
       "      <td>15/02/2018 09:03:55</td>\n",
       "      <td>54683364</td>\n",
       "      <td>5</td>\n",
       "      <td>1</td>\n",
       "      <td>123</td>\n",
       "      <td>46</td>\n",
       "      <td>46</td>\n",
       "      <td>0</td>\n",
       "      <td>...</td>\n",
       "      <td>20</td>\n",
       "      <td>158870.0</td>\n",
       "      <td>0.000000</td>\n",
       "      <td>158870</td>\n",
       "      <td>158870</td>\n",
       "      <td>54523593.0</td>\n",
       "      <td>0.0000</td>\n",
       "      <td>54523593</td>\n",
       "      <td>54523593</td>\n",
       "      <td>Benign</td>\n",
       "    </tr>\n",
       "    <tr>\n",
       "      <td>1048574</td>\n",
       "      <td>443</td>\n",
       "      <td>6</td>\n",
       "      <td>15/02/2018 09:02:01</td>\n",
       "      <td>116857161</td>\n",
       "      <td>18</td>\n",
       "      <td>17</td>\n",
       "      <td>1066</td>\n",
       "      <td>5265</td>\n",
       "      <td>281</td>\n",
       "      <td>0</td>\n",
       "      <td>...</td>\n",
       "      <td>20</td>\n",
       "      <td>221407.0</td>\n",
       "      <td>48231.753545</td>\n",
       "      <td>255512</td>\n",
       "      <td>187302</td>\n",
       "      <td>58082282.0</td>\n",
       "      <td>183221.2665</td>\n",
       "      <td>58211839</td>\n",
       "      <td>57952725</td>\n",
       "      <td>Benign</td>\n",
       "    </tr>\n",
       "  </tbody>\n",
       "</table>\n",
       "<p>5 rows × 80 columns</p>\n",
       "</div>"
      ],
      "text/plain": [
       "         Dst Port  Protocol            Timestamp  Flow Duration  Tot Fwd Pkts  \\\n",
       "1048570     50111         6  15/02/2018 09:04:42             22             3   \n",
       "1048571       443         6  15/02/2018 09:03:55       54682783             5   \n",
       "1048572       443         6  15/02/2018 09:03:56       53682093             5   \n",
       "1048573       443         6  15/02/2018 09:03:55       54683364             5   \n",
       "1048574       443         6  15/02/2018 09:02:01      116857161            18   \n",
       "\n",
       "         Tot Bwd Pkts  TotLen Fwd Pkts  TotLen Bwd Pkts  Fwd Pkt Len Max  \\\n",
       "1048570             0               31                0               31   \n",
       "1048571             1              123               46               46   \n",
       "1048572             1              123               46               46   \n",
       "1048573             1              123               46               46   \n",
       "1048574            17             1066             5265              281   \n",
       "\n",
       "         Fwd Pkt Len Min  ...  Fwd Seg Size Min  Active Mean    Active Std  \\\n",
       "1048570                0  ...                20          0.0      0.000000   \n",
       "1048571                0  ...                20     158783.0      0.000000   \n",
       "1048572                0  ...                20     259719.0      0.000000   \n",
       "1048573                0  ...                20     158870.0      0.000000   \n",
       "1048574                0  ...                20     221407.0  48231.753545   \n",
       "\n",
       "         Active Max  Active Min   Idle Mean     Idle Std  Idle Max  Idle Min  \\\n",
       "1048570           0           0         0.0       0.0000         0         0   \n",
       "1048571      158783      158783  54523813.0       0.0000  54523813  54523813   \n",
       "1048572      259719      259719  53421756.0       0.0000  53421756  53421756   \n",
       "1048573      158870      158870  54523593.0       0.0000  54523593  54523593   \n",
       "1048574      255512      187302  58082282.0  183221.2665  58211839  57952725   \n",
       "\n",
       "          Label  \n",
       "1048570  Benign  \n",
       "1048571  Benign  \n",
       "1048572  Benign  \n",
       "1048573  Benign  \n",
       "1048574  Benign  \n",
       "\n",
       "[5 rows x 80 columns]"
      ]
     },
     "execution_count": 10,
     "metadata": {},
     "output_type": "execute_result"
    }
   ],
   "source": [
    "df.tail(5)"
   ]
  },
  {
   "cell_type": "code",
   "execution_count": 11,
   "metadata": {},
   "outputs": [
    {
     "data": {
      "text/plain": [
       "Benign                   996077\n",
       "DoS attacks-GoldenEye     41508\n",
       "DoS attacks-Slowloris     10990\n",
       "Name: Label, dtype: int64"
      ]
     },
     "execution_count": 11,
     "metadata": {},
     "output_type": "execute_result"
    }
   ],
   "source": [
    "df['Label'].value_counts()\n",
    "# Benign                   996077\n",
    "# DoS attacks-GoldenEye     41508\n",
    "# DoS attacks-Slowloris     10990\n",
    "# Name: Label, dtype: int64\n",
    "\n",
    "# df_big\n",
    "# Benign                    7372557\n",
    "# DDoS attacks-LOIC-HTTP     576191\n",
    "# Name: Label, dtype: int64"
   ]
  },
  {
   "cell_type": "code",
   "execution_count": 12,
   "metadata": {},
   "outputs": [],
   "source": [
    "#df20180222['Label'].value_counts()\n",
    "# Benign              1048213\n",
    "# Brute Force -Web        249\n",
    "# Brute Force -XSS         79\n",
    "# SQL Injection            34\n",
    "# Name: Label, dtype: int64"
   ]
  },
  {
   "cell_type": "code",
   "execution_count": 13,
   "metadata": {},
   "outputs": [],
   "source": [
    "# df20180301['Label'].value_counts()\n",
    "# Benign           238037\n",
    "# Infilteration     93063\n",
    "# Label                25\n",
    "# Name: Label, dtype: int64"
   ]
  },
  {
   "cell_type": "markdown",
   "metadata": {},
   "source": [
    "## Verify Data Quality"
   ]
  },
  {
   "cell_type": "markdown",
   "metadata": {},
   "source": [
    "Look out for the following:\n",
    "* Incorrect or unexpected data type & format (ALL)\n",
    "* Duplicates (ALL)\n",
    "* Unexpected dimensions (i.e. missing rows or columns) (ALL)\n",
    "* Incorrect Spelling (CAT)\n",
    "* Mixed cases for strings (CAT)\n",
    "* Unexpected outliers or anomalous values (NUM)\n",
    "* Inconsistent or incorrect units of measurement (NUM)"
   ]
  },
  {
   "cell_type": "code",
   "execution_count": 14,
   "metadata": {},
   "outputs": [
    {
     "data": {
      "text/plain": [
       "Dst Port           int64\n",
       "Protocol           int64\n",
       "Timestamp         object\n",
       "Flow Duration      int64\n",
       "Tot Fwd Pkts       int64\n",
       "                  ...   \n",
       "Idle Mean        float64\n",
       "Idle Std         float64\n",
       "Idle Max           int64\n",
       "Idle Min           int64\n",
       "Label             object\n",
       "Length: 80, dtype: object"
      ]
     },
     "execution_count": 14,
     "metadata": {},
     "output_type": "execute_result"
    }
   ],
   "source": [
    "# Incorrect or unexpected data type & format (ALL)\n",
    "df.dtypes"
   ]
  },
  {
   "cell_type": "code",
   "execution_count": 15,
   "metadata": {},
   "outputs": [
    {
     "data": {
      "text/plain": [
       "False    1046174\n",
       "True        2401\n",
       "dtype: int64"
      ]
     },
     "execution_count": 15,
     "metadata": {},
     "output_type": "execute_result"
    }
   ],
   "source": [
    "# Duplicates (ALL). \n",
    "# Checks for Duplicated Samples\n",
    "df.duplicated().value_counts()"
   ]
  },
  {
   "cell_type": "markdown",
   "metadata": {},
   "source": [
    "## Data Preparation"
   ]
  },
  {
   "cell_type": "markdown",
   "metadata": {},
   "source": [
    "### Removing Null Rows"
   ]
  },
  {
   "cell_type": "code",
   "execution_count": 16,
   "metadata": {},
   "outputs": [
    {
     "data": {
      "text/plain": [
       "['Flow Byts/s']"
      ]
     },
     "execution_count": 16,
     "metadata": {},
     "output_type": "execute_result"
    }
   ],
   "source": [
    "df.columns[df.isna().any()].tolist()"
   ]
  },
  {
   "cell_type": "code",
   "execution_count": 17,
   "metadata": {},
   "outputs": [
    {
     "data": {
      "text/plain": [
       "(4921, 80)"
      ]
     },
     "execution_count": 17,
     "metadata": {},
     "output_type": "execute_result"
    }
   ],
   "source": [
    "df_nulls = df[df.isna().any(axis=1)]\n",
    "df_nulls.shape"
   ]
  },
  {
   "cell_type": "code",
   "execution_count": 18,
   "metadata": {},
   "outputs": [
    {
     "data": {
      "text/plain": [
       "Benign    4921\n",
       "Name: Label, dtype: int64"
      ]
     },
     "execution_count": 18,
     "metadata": {},
     "output_type": "execute_result"
    }
   ],
   "source": [
    "# all the row with null values\n",
    "df_nulls['Label'].value_counts() "
   ]
  },
  {
   "cell_type": "code",
   "execution_count": 19,
   "metadata": {},
   "outputs": [
    {
     "data": {
      "text/plain": [
       "(1043654, 80)"
      ]
     },
     "execution_count": 19,
     "metadata": {},
     "output_type": "execute_result"
    }
   ],
   "source": [
    "# remove null rows \n",
    "df_nonulls = df.dropna()\n",
    "\n",
    "# remove headers\n",
    "df_nonulls.drop(df_nonulls[df_nonulls['Label'] == 'Label'].index, inplace=True)\n",
    "\n",
    "df_nonulls.shape"
   ]
  },
  {
   "cell_type": "code",
   "execution_count": 20,
   "metadata": {},
   "outputs": [
    {
     "data": {
      "text/html": [
       "<div>\n",
       "<style scoped>\n",
       "    .dataframe tbody tr th:only-of-type {\n",
       "        vertical-align: middle;\n",
       "    }\n",
       "\n",
       "    .dataframe tbody tr th {\n",
       "        vertical-align: top;\n",
       "    }\n",
       "\n",
       "    .dataframe thead th {\n",
       "        text-align: right;\n",
       "    }\n",
       "</style>\n",
       "<table border=\"1\" class=\"dataframe\">\n",
       "  <thead>\n",
       "    <tr style=\"text-align: right;\">\n",
       "      <th></th>\n",
       "      <th>Dst Port</th>\n",
       "      <th>Protocol</th>\n",
       "      <th>Timestamp</th>\n",
       "      <th>Flow Duration</th>\n",
       "      <th>Tot Fwd Pkts</th>\n",
       "      <th>Tot Bwd Pkts</th>\n",
       "      <th>TotLen Fwd Pkts</th>\n",
       "      <th>TotLen Bwd Pkts</th>\n",
       "      <th>Fwd Pkt Len Max</th>\n",
       "      <th>Fwd Pkt Len Min</th>\n",
       "      <th>...</th>\n",
       "      <th>Fwd Seg Size Min</th>\n",
       "      <th>Active Mean</th>\n",
       "      <th>Active Std</th>\n",
       "      <th>Active Max</th>\n",
       "      <th>Active Min</th>\n",
       "      <th>Idle Mean</th>\n",
       "      <th>Idle Std</th>\n",
       "      <th>Idle Max</th>\n",
       "      <th>Idle Min</th>\n",
       "      <th>Label</th>\n",
       "    </tr>\n",
       "  </thead>\n",
       "  <tbody>\n",
       "  </tbody>\n",
       "</table>\n",
       "<p>0 rows × 80 columns</p>\n",
       "</div>"
      ],
      "text/plain": [
       "Empty DataFrame\n",
       "Columns: [Dst Port, Protocol, Timestamp, Flow Duration, Tot Fwd Pkts, Tot Bwd Pkts, TotLen Fwd Pkts, TotLen Bwd Pkts, Fwd Pkt Len Max, Fwd Pkt Len Min, Fwd Pkt Len Mean, Fwd Pkt Len Std, Bwd Pkt Len Max, Bwd Pkt Len Min, Bwd Pkt Len Mean, Bwd Pkt Len Std, Flow Byts/s, Flow Pkts/s, Flow IAT Mean, Flow IAT Std, Flow IAT Max, Flow IAT Min, Fwd IAT Tot, Fwd IAT Mean, Fwd IAT Std, Fwd IAT Max, Fwd IAT Min, Bwd IAT Tot, Bwd IAT Mean, Bwd IAT Std, Bwd IAT Max, Bwd IAT Min, Fwd PSH Flags, Bwd PSH Flags, Fwd URG Flags, Bwd URG Flags, Fwd Header Len, Bwd Header Len, Fwd Pkts/s, Bwd Pkts/s, Pkt Len Min, Pkt Len Max, Pkt Len Mean, Pkt Len Std, Pkt Len Var, FIN Flag Cnt, SYN Flag Cnt, RST Flag Cnt, PSH Flag Cnt, ACK Flag Cnt, URG Flag Cnt, CWE Flag Count, ECE Flag Cnt, Down/Up Ratio, Pkt Size Avg, Fwd Seg Size Avg, Bwd Seg Size Avg, Fwd Byts/b Avg, Fwd Pkts/b Avg, Fwd Blk Rate Avg, Bwd Byts/b Avg, Bwd Pkts/b Avg, Bwd Blk Rate Avg, Subflow Fwd Pkts, Subflow Fwd Byts, Subflow Bwd Pkts, Subflow Bwd Byts, Init Fwd Win Byts, Init Bwd Win Byts, Fwd Act Data Pkts, Fwd Seg Size Min, Active Mean, Active Std, Active Max, Active Min, Idle Mean, Idle Std, Idle Max, Idle Min, Label]\n",
       "Index: []\n",
       "\n",
       "[0 rows x 80 columns]"
      ]
     },
     "execution_count": 20,
     "metadata": {},
     "output_type": "execute_result"
    }
   ],
   "source": [
    "df_nonulls[df_nonulls.isna().any(axis=1)]\n",
    "# should be empty now"
   ]
  },
  {
   "cell_type": "markdown",
   "metadata": {},
   "source": [
    "## Convert the Objects to Numerical"
   ]
  },
  {
   "cell_type": "markdown",
   "metadata": {},
   "source": [
    "### Convert Label from Categorical to Numerical\n",
    "* Benign - 0\n",
    "* Non-Benign - 1"
   ]
  },
  {
   "cell_type": "code",
   "execution_count": 21,
   "metadata": {},
   "outputs": [],
   "source": [
    "# Convert All Benign to 0 and all others (Non-Benign) to 1\n",
    "df_nonulls.Label[df.Label == 'Benign'] = 0\n",
    "df_nonulls.Label[df.Label != 'Benign'] = 1\n",
    "df_nonulls['Label'] = df_nonulls['Label'].astype(int)"
   ]
  },
  {
   "cell_type": "code",
   "execution_count": 22,
   "metadata": {},
   "outputs": [
    {
     "data": {
      "text/plain": [
       "array([0, 1])"
      ]
     },
     "execution_count": 22,
     "metadata": {},
     "output_type": "execute_result"
    }
   ],
   "source": [
    "df_nonulls.Label.unique()"
   ]
  },
  {
   "cell_type": "markdown",
   "metadata": {},
   "source": [
    "### Convert Timestamp from Object to DateTime"
   ]
  },
  {
   "cell_type": "code",
   "execution_count": 23,
   "metadata": {},
   "outputs": [],
   "source": [
    "# Keep this for now as place holder for future \n",
    "df_nonulls['Timestamp'] = pd.to_datetime(df_nonulls['Timestamp'], infer_datetime_format=True)\n",
    "# df_nonulls['Timestamp'].dt.hour.unique()\n",
    "# df_nonulls['Timestamp'].dt.minute.unique()"
   ]
  },
  {
   "cell_type": "markdown",
   "metadata": {},
   "source": [
    "### Drop Timestamp from DataFrame"
   ]
  },
  {
   "cell_type": "code",
   "execution_count": 24,
   "metadata": {},
   "outputs": [],
   "source": [
    "# A bit unnecessary to convert to timestamp before changing it, but keeping as reminder\n",
    "df_nonulls.drop('Timestamp', axis=1, inplace=True)"
   ]
  },
  {
   "cell_type": "markdown",
   "metadata": {},
   "source": [
    "### Convert 'Flow Byts/s' & 'Flow Pkts/s'  from Object to Float"
   ]
  },
  {
   "cell_type": "code",
   "execution_count": 25,
   "metadata": {},
   "outputs": [],
   "source": [
    "df_nonulls['Flow Byts/s'] = df_nonulls['Flow Byts/s'].astype(float)\n",
    "df_nonulls['Flow Pkts/s'] = df_nonulls['Flow Pkts/s'].astype(float)"
   ]
  },
  {
   "cell_type": "markdown",
   "metadata": {},
   "source": [
    "### Keep only finite values to avoid INF or NaN in Describe"
   ]
  },
  {
   "cell_type": "code",
   "execution_count": 26,
   "metadata": {},
   "outputs": [],
   "source": [
    "# Identifying rows with only finite values (two different ways)\n",
    "#df_subset = df_nonulls[np.isfinite(df_nonulls).all(1)]\n",
    "df_subset = df_nonulls[~df_nonulls.isin([np.nan, np.inf, -np.inf]).any(1)]"
   ]
  },
  {
   "cell_type": "code",
   "execution_count": 27,
   "metadata": {},
   "outputs": [
    {
     "name": "stdout",
     "output_type": "stream",
     "text": [
      "(1043654, 79) (1040548, 79)\n"
     ]
    }
   ],
   "source": [
    "print(df_nonulls.shape, df_subset.shape)"
   ]
  },
  {
   "cell_type": "code",
   "execution_count": 28,
   "metadata": {},
   "outputs": [],
   "source": [
    "# Identifying the rows that cause issues later down the line\n",
    "# This is a resource intensive operation as you merge the two sets\n",
    "# May want to skip this to avoid processing time\n",
    "# df_diff = pd.merge(df_nonulls, df_subset, how='outer', indicator='Exist')\n",
    "# df_diff = df_diff.loc[df_diff['Exist'] != 'both']\n",
    "# df_diff.describe()"
   ]
  },
  {
   "cell_type": "code",
   "execution_count": 29,
   "metadata": {},
   "outputs": [],
   "source": [
    "# df_nonulls.shape, df_subset.shape, df_diff.shape"
   ]
  },
  {
   "cell_type": "code",
   "execution_count": 30,
   "metadata": {},
   "outputs": [],
   "source": [
    "# This is a problem column, possibly caused by conversion from Object to Float\n",
    "# df_diff['Flow Byts/s'].describe()"
   ]
  },
  {
   "cell_type": "code",
   "execution_count": 31,
   "metadata": {},
   "outputs": [],
   "source": [
    "# This is another problem column, possibly caused by conversion from Object to Float\n",
    "# df_diff['Flow Pkts/s'].describe()"
   ]
  },
  {
   "cell_type": "code",
   "execution_count": 32,
   "metadata": {},
   "outputs": [],
   "source": [
    "df_nonulls = df_subset"
   ]
  },
  {
   "cell_type": "markdown",
   "metadata": {},
   "source": [
    "### Re-Check DataFrame Objects\n"
   ]
  },
  {
   "cell_type": "code",
   "execution_count": 33,
   "metadata": {},
   "outputs": [
    {
     "name": "stdout",
     "output_type": "stream",
     "text": [
      "<class 'pandas.core.frame.DataFrame'>\n",
      "Int64Index: 1040548 entries, 0 to 1048574\n",
      "Data columns (total 79 columns):\n",
      "Dst Port             1040548 non-null int64\n",
      "Protocol             1040548 non-null int64\n",
      "Flow Duration        1040548 non-null int64\n",
      "Tot Fwd Pkts         1040548 non-null int64\n",
      "Tot Bwd Pkts         1040548 non-null int64\n",
      "TotLen Fwd Pkts      1040548 non-null int64\n",
      "TotLen Bwd Pkts      1040548 non-null int64\n",
      "Fwd Pkt Len Max      1040548 non-null int64\n",
      "Fwd Pkt Len Min      1040548 non-null int64\n",
      "Fwd Pkt Len Mean     1040548 non-null float64\n",
      "Fwd Pkt Len Std      1040548 non-null float64\n",
      "Bwd Pkt Len Max      1040548 non-null int64\n",
      "Bwd Pkt Len Min      1040548 non-null int64\n",
      "Bwd Pkt Len Mean     1040548 non-null float64\n",
      "Bwd Pkt Len Std      1040548 non-null float64\n",
      "Flow Byts/s          1040548 non-null float64\n",
      "Flow Pkts/s          1040548 non-null float64\n",
      "Flow IAT Mean        1040548 non-null float64\n",
      "Flow IAT Std         1040548 non-null float64\n",
      "Flow IAT Max         1040548 non-null int64\n",
      "Flow IAT Min         1040548 non-null int64\n",
      "Fwd IAT Tot          1040548 non-null int64\n",
      "Fwd IAT Mean         1040548 non-null float64\n",
      "Fwd IAT Std          1040548 non-null float64\n",
      "Fwd IAT Max          1040548 non-null int64\n",
      "Fwd IAT Min          1040548 non-null int64\n",
      "Bwd IAT Tot          1040548 non-null int64\n",
      "Bwd IAT Mean         1040548 non-null float64\n",
      "Bwd IAT Std          1040548 non-null float64\n",
      "Bwd IAT Max          1040548 non-null int64\n",
      "Bwd IAT Min          1040548 non-null int64\n",
      "Fwd PSH Flags        1040548 non-null int64\n",
      "Bwd PSH Flags        1040548 non-null int64\n",
      "Fwd URG Flags        1040548 non-null int64\n",
      "Bwd URG Flags        1040548 non-null int64\n",
      "Fwd Header Len       1040548 non-null int64\n",
      "Bwd Header Len       1040548 non-null int64\n",
      "Fwd Pkts/s           1040548 non-null float64\n",
      "Bwd Pkts/s           1040548 non-null float64\n",
      "Pkt Len Min          1040548 non-null int64\n",
      "Pkt Len Max          1040548 non-null int64\n",
      "Pkt Len Mean         1040548 non-null float64\n",
      "Pkt Len Std          1040548 non-null float64\n",
      "Pkt Len Var          1040548 non-null float64\n",
      "FIN Flag Cnt         1040548 non-null int64\n",
      "SYN Flag Cnt         1040548 non-null int64\n",
      "RST Flag Cnt         1040548 non-null int64\n",
      "PSH Flag Cnt         1040548 non-null int64\n",
      "ACK Flag Cnt         1040548 non-null int64\n",
      "URG Flag Cnt         1040548 non-null int64\n",
      "CWE Flag Count       1040548 non-null int64\n",
      "ECE Flag Cnt         1040548 non-null int64\n",
      "Down/Up Ratio        1040548 non-null int64\n",
      "Pkt Size Avg         1040548 non-null float64\n",
      "Fwd Seg Size Avg     1040548 non-null float64\n",
      "Bwd Seg Size Avg     1040548 non-null float64\n",
      "Fwd Byts/b Avg       1040548 non-null int64\n",
      "Fwd Pkts/b Avg       1040548 non-null int64\n",
      "Fwd Blk Rate Avg     1040548 non-null int64\n",
      "Bwd Byts/b Avg       1040548 non-null int64\n",
      "Bwd Pkts/b Avg       1040548 non-null int64\n",
      "Bwd Blk Rate Avg     1040548 non-null int64\n",
      "Subflow Fwd Pkts     1040548 non-null int64\n",
      "Subflow Fwd Byts     1040548 non-null int64\n",
      "Subflow Bwd Pkts     1040548 non-null int64\n",
      "Subflow Bwd Byts     1040548 non-null int64\n",
      "Init Fwd Win Byts    1040548 non-null int64\n",
      "Init Bwd Win Byts    1040548 non-null int64\n",
      "Fwd Act Data Pkts    1040548 non-null int64\n",
      "Fwd Seg Size Min     1040548 non-null int64\n",
      "Active Mean          1040548 non-null float64\n",
      "Active Std           1040548 non-null float64\n",
      "Active Max           1040548 non-null int64\n",
      "Active Min           1040548 non-null int64\n",
      "Idle Mean            1040548 non-null float64\n",
      "Idle Std             1040548 non-null float64\n",
      "Idle Max             1040548 non-null int64\n",
      "Idle Min             1040548 non-null int64\n",
      "Label                1040548 non-null int64\n",
      "dtypes: float64(24), int64(55)\n",
      "memory usage: 635.1 MB\n"
     ]
    }
   ],
   "source": [
    "#Check the features\n",
    "df_nonulls.info()"
   ]
  },
  {
   "cell_type": "code",
   "execution_count": 34,
   "metadata": {},
   "outputs": [
    {
     "data": {
      "text/plain": [
       "(1040548, 79)"
      ]
     },
     "execution_count": 34,
     "metadata": {},
     "output_type": "execute_result"
    }
   ],
   "source": [
    "df_nonulls.shape"
   ]
  },
  {
   "cell_type": "markdown",
   "metadata": {},
   "source": [
    "### Check Label Balance"
   ]
  },
  {
   "cell_type": "markdown",
   "metadata": {},
   "source": [
    "<i>Hint: Since we'll be using GridSearchCV, no need to further split into train and test set. Only split into predictor and target variables</i>"
   ]
  },
  {
   "cell_type": "code",
   "execution_count": 35,
   "metadata": {},
   "outputs": [
    {
     "data": {
      "text/plain": [
       "<matplotlib.axes._subplots.AxesSubplot at 0x12934c790>"
      ]
     },
     "execution_count": 35,
     "metadata": {},
     "output_type": "execute_result"
    },
    {
     "data": {
      "image/png": "[encoded data removed]",
      "text/plain": [
       "<Figure size 432x288 with 1 Axes>"
      ]
     },
     "metadata": {},
     "output_type": "display_data"
    }
   ],
   "source": [
    "#Target variable is \"Label\"\n",
    "X = df_nonulls.drop(\"Label\", axis=1)\n",
    "y = df_nonulls.Label\n",
    "\n",
    "sns.set(font_scale=1)\n",
    "sns.countplot(y)\n",
    "# Benign\n",
    "# DoS attacks-GoldenEye\n",
    "# DoS attacks-Slowloris"
   ]
  },
  {
   "cell_type": "code",
   "execution_count": 36,
   "metadata": {},
   "outputs": [],
   "source": [
    "# Subset of Features\n",
    "# df_subset = df_nonulls[['URG Flag Cnt','SYN Flag Cnt','RST Flag Cnt','PSH Flag Cnt','Protocol',\n",
    "#         'Pkt Size Avg','Flow Pkts/s','FIN Flag Cnt','ECE Flag Cnt','ACK Flag Cnt','Dst Port','Label']]\n",
    "# df_subset.info(verbose=True)"
   ]
  },
  {
   "cell_type": "code",
   "execution_count": 37,
   "metadata": {},
   "outputs": [
    {
     "name": "stdout",
     "output_type": "stream",
     "text": [
      "(1040548, 78) (1040548,)\n"
     ]
    }
   ],
   "source": [
    "print(X.shape,y.shape)"
   ]
  },
  {
   "cell_type": "markdown",
   "metadata": {},
   "source": [
    "### Build Training Set using SMOTE"
   ]
  },
  {
   "cell_type": "code",
   "execution_count": 38,
   "metadata": {},
   "outputs": [
    {
     "name": "stdout",
     "output_type": "stream",
     "text": [
      "Counter({0: 988050, 1: 52498})\n",
      "Counter({0: 494025, 1: 494025})\n"
     ]
    }
   ],
   "source": [
    "# Oversample with SMOTE and random undersample for imbalanced dataset\n",
    "from collections import Counter\n",
    "from sklearn.datasets import make_classification\n",
    "from imblearn.over_sampling import SMOTE\n",
    "from imblearn.under_sampling import RandomUnderSampler\n",
    "from imblearn.pipeline import Pipeline\n",
    "from matplotlib import pyplot\n",
    "from numpy import where\n",
    "\n",
    "# summarize class distribution\n",
    "counter = Counter(y)\n",
    "print(counter)\n",
    "# define pipeline\n",
    "over = SMOTE(sampling_strategy=0.5)\n",
    "under = RandomUnderSampler(sampling_strategy=1)\n",
    "steps = [('o', over), ('u', under)]\n",
    "pipeline = Pipeline(steps=steps)\n",
    "# transform the dataset\n",
    "X_train, y_train = pipeline.fit_resample(X, y)\n",
    "# summarize the new class distribution\n",
    "counter = Counter(y_train)\n",
    "print(counter)"
   ]
  },
  {
   "cell_type": "code",
   "execution_count": 39,
   "metadata": {},
   "outputs": [],
   "source": [
    "# Copy training set\n",
    "df_training_set = pd.concat([X_train,y_train], axis=1)"
   ]
  },
  {
   "cell_type": "code",
   "execution_count": 40,
   "metadata": {},
   "outputs": [
    {
     "data": {
      "text/plain": [
       "((988050, 78), (988050,))"
      ]
     },
     "execution_count": 40,
     "metadata": {},
     "output_type": "execute_result"
    }
   ],
   "source": [
    "X_train.shape, y_train.shape"
   ]
  },
  {
   "cell_type": "code",
   "execution_count": 41,
   "metadata": {},
   "outputs": [
    {
     "data": {
      "text/plain": [
       "(988050, 79)"
      ]
     },
     "execution_count": 41,
     "metadata": {},
     "output_type": "execute_result"
    }
   ],
   "source": [
    "df_training_set.shape"
   ]
  },
  {
   "cell_type": "markdown",
   "metadata": {},
   "source": [
    "## Export Data"
   ]
  },
  {
   "cell_type": "code",
   "execution_count": 42,
   "metadata": {},
   "outputs": [
    {
     "data": {
      "text/plain": [
       "Benign                   996077\n",
       "DoS attacks-GoldenEye     41508\n",
       "DoS attacks-Slowloris     10990\n",
       "Name: Label, dtype: int64"
      ]
     },
     "execution_count": 42,
     "metadata": {},
     "output_type": "execute_result"
    }
   ],
   "source": [
    "df_training_set[\"Label\"].value_counts()"
   ]
  },
  {
   "cell_type": "markdown",
   "metadata": {},
   "source": [
    "#### Honestly unsure if I need to export to CSV if I have PKL file"
   ]
  },
  {
   "cell_type": "code",
   "execution_count": null,
   "metadata": {},
   "outputs": [],
   "source": [
    "df_nonulls.to_csv(\"./Datasets/Processed-Thursday-15-02-2018_TrafficForML_CICFlowMeter.csv\")\n",
    "df_training_set.to_csv(\"./Datasets/SMOTE-Thursday-15-02-2018_TrafficForML_CICFlowMeter.csv\")\n",
    "\n",
    "#df_nonulls.to_csv(\"./Datasets/Processed-Thursday-01-03-2018_TrafficForML_CICFlowMeter.csv\")\n",
    "#df_nonulls.to_csv(\"../../../Downloads/CSC IDS 2018/Processed-Tuesday-20-02-2018_TrafficForML_CICFlowMeter.csv\")\n"
   ]
  },
  {
   "cell_type": "code",
   "execution_count": null,
   "metadata": {},
   "outputs": [],
   "source": [
    "df_nonulls.to_pickle(\"./Datasets/Processed-Thursday-15-02-2018_TrafficForML_CICFlowMeter.pkl\")\n",
    "df_training_set.to_pickle(\"./Datasets/SMOTE-Thursday-15-02-2018_TrafficForML_CICFlowMeter.pkl\")\n",
    "#df_nonulls.to_pickle(\"./Datasets/Processed-Thursday-01-03-2018_TrafficForML_CICFlowMeter.pkl\")\n",
    "#df_nonulls.to_pickle(\"../../../Downloads/CSC IDS 2018/Processed-Tuesday-20-02-2018_TrafficForML_CICFlowMeter.pkl\")\n"
   ]
  },
  {
   "cell_type": "markdown",
   "metadata": {},
   "source": [
    "# EOF"
   ]
  }
 ],
 "metadata": {
  "kernelspec": {
   "display_name": "Python 3",
   "language": "python",
   "name": "python3"
  },
  "language_info": {
   "codemirror_mode": {
    "name": "ipython",
    "version": 3
   },
   "file_extension": ".py",
   "mimetype": "text/x-python",
   "name": "python",
   "nbconvert_exporter": "python",
   "pygments_lexer": "ipython3",
   "version": "3.7.4"
  }
 },
 "nbformat": 4,
 "nbformat_minor": 2
}
