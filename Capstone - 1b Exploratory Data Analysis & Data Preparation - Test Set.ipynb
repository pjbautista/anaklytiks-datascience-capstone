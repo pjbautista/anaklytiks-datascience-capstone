{
 "cells": [
  {
   "cell_type": "markdown",
   "metadata": {},
   "source": [
    "# Intrustion Detection System\n",
    "## Network Traffic Classification"
   ]
  },
  {
   "cell_type": "markdown",
   "metadata": {},
   "source": [
    "<b>Dataset:</b> <i>CSC IDS 2018</i><br>\n",
    "<a href=\"./Datasets/Thursday-15-02-2018_TrafficForML_CICFlowMeter.csv\">Description</a>\n",
    "\n",
    "<b>Target Variable:</b> <i>Label</i> \n",
    "* Benign\n",
    "* DoS attacks-GoldenEye\n",
    "* DoS attacks-Slowloris\n",
    "* Brute Force -Web\n",
    "* Brute Force -XSS \n",
    "* SQL Injection            \n",
    "* Infilteration   \n",
    "\n",
    "\n",
    "<b>Key Objectives:</b>\n",
    "1. Import Libraries & Load Dataset \n",
    "2. Describe Data \n",
    "3. Verify Data Quality\n",
    "4. Data Preparation \n",
    "5. Convert Objects to Numerical \n",
    "6. Export Data"
   ]
  },
  {
   "cell_type": "markdown",
   "metadata": {},
   "source": [
    "## Import Libraries"
   ]
  },
  {
   "cell_type": "markdown",
   "metadata": {},
   "source": [
    "### Standard Libraries"
   ]
  },
  {
   "cell_type": "code",
   "execution_count": 1,
   "metadata": {},
   "outputs": [],
   "source": [
    "import numpy as np\n",
    "import pandas as pd\n",
    "import matplotlib.pyplot as plt\n",
    "import seaborn as sns\n",
    "sns.set_style(\"whitegrid\")\n",
    "sns.set_context(\"poster\")\n",
    "\n",
    "%matplotlib inline"
   ]
  },
  {
   "cell_type": "code",
   "execution_count": 2,
   "metadata": {},
   "outputs": [],
   "source": [
    "#ignore warnings\n",
    "import warnings\n",
    "warnings.filterwarnings('ignore')"
   ]
  },
  {
   "cell_type": "markdown",
   "metadata": {},
   "source": [
    "## Load dataset"
   ]
  },
  {
   "cell_type": "markdown",
   "metadata": {},
   "source": [
    "* Specify the Parameters (Filepath, Index Column)\n",
    "* Check for Date-Time Columns to Parse Dates\n",
    "* Check Encoding if file does not load correctly"
   ]
  },
  {
   "cell_type": "code",
   "execution_count": 3,
   "metadata": {},
   "outputs": [],
   "source": [
    "#provide the path of the dataset\n",
    "df = pd.read_csv(\"../../../Downloads/CSC IDS 2018/Tuesday-20-02-2018_TrafficForML_CICFlowMeter.csv\")\n",
    "\n",
    "\n",
    "#df = pd.read_csv(\"./Datasets/Thursday-15-02-2018_TrafficForML_CICFlowMeter.csv\")\n",
    "#df = pd.read_csv(\"./Datasets/Thursday-01-03-2018_TrafficForML_CICFlowMeter.csv\")\n",
    "\n",
    "# df = pd.read_csv(\"../../../Downloads/CSC IDS 2018/Tuesday-20-02-2018_TrafficForML_CICFlowMeter.csv\")\n",
    "# df_big = pd.read_csv(\"../../../Downloads/CSC IDS 2018/Tuesday-20-02-2018_TrafficForML_CICFlowMeter.csv\")\n",
    "#df20180222 = pd.read_csv(\"./Datasets/Thursday-22-02-2018_TrafficForML_CICFlowMeter.csv\")\n",
    "#df20180301 = pd.read_csv(\"./Datasets/Thursday-01-03-2018_TrafficForML_CICFlowMeter.csv\")"
   ]
  },
  {
   "cell_type": "markdown",
   "metadata": {},
   "source": [
    "## Describe the Data"
   ]
  },
  {
   "cell_type": "code",
   "execution_count": 4,
   "metadata": {},
   "outputs": [
    {
     "data": {
      "text/html": [
       "<div>\n",
       "<style scoped>\n",
       "    .dataframe tbody tr th:only-of-type {\n",
       "        vertical-align: middle;\n",
       "    }\n",
       "\n",
       "    .dataframe tbody tr th {\n",
       "        vertical-align: top;\n",
       "    }\n",
       "\n",
       "    .dataframe thead th {\n",
       "        text-align: right;\n",
       "    }\n",
       "</style>\n",
       "<table border=\"1\" class=\"dataframe\">\n",
       "  <thead>\n",
       "    <tr style=\"text-align: right;\">\n",
       "      <th></th>\n",
       "      <th>Flow ID</th>\n",
       "      <th>Src IP</th>\n",
       "      <th>Src Port</th>\n",
       "      <th>Dst IP</th>\n",
       "      <th>Dst Port</th>\n",
       "      <th>Protocol</th>\n",
       "      <th>Timestamp</th>\n",
       "      <th>Flow Duration</th>\n",
       "      <th>Tot Fwd Pkts</th>\n",
       "      <th>Tot Bwd Pkts</th>\n",
       "      <th>...</th>\n",
       "      <th>Fwd Seg Size Min</th>\n",
       "      <th>Active Mean</th>\n",
       "      <th>Active Std</th>\n",
       "      <th>Active Max</th>\n",
       "      <th>Active Min</th>\n",
       "      <th>Idle Mean</th>\n",
       "      <th>Idle Std</th>\n",
       "      <th>Idle Max</th>\n",
       "      <th>Idle Min</th>\n",
       "      <th>Label</th>\n",
       "    </tr>\n",
       "  </thead>\n",
       "  <tbody>\n",
       "    <tr>\n",
       "      <td>0</td>\n",
       "      <td>172.31.69.25-94.231.103.172-22-45498-6</td>\n",
       "      <td>94.231.103.172</td>\n",
       "      <td>45498</td>\n",
       "      <td>172.31.69.25</td>\n",
       "      <td>22</td>\n",
       "      <td>6</td>\n",
       "      <td>20/02/2018 08:34:07</td>\n",
       "      <td>888751</td>\n",
       "      <td>11</td>\n",
       "      <td>11</td>\n",
       "      <td>...</td>\n",
       "      <td>32</td>\n",
       "      <td>0.0</td>\n",
       "      <td>0.0</td>\n",
       "      <td>0.0</td>\n",
       "      <td>0.0</td>\n",
       "      <td>0.0</td>\n",
       "      <td>0.000000</td>\n",
       "      <td>0.0</td>\n",
       "      <td>0.0</td>\n",
       "      <td>Benign</td>\n",
       "    </tr>\n",
       "    <tr>\n",
       "      <td>1</td>\n",
       "      <td>8.0.6.4-8.6.0.1-0-0-0</td>\n",
       "      <td>8.6.0.1</td>\n",
       "      <td>0</td>\n",
       "      <td>8.0.6.4</td>\n",
       "      <td>0</td>\n",
       "      <td>0</td>\n",
       "      <td>20/02/2018 08:33:22</td>\n",
       "      <td>112642816</td>\n",
       "      <td>3</td>\n",
       "      <td>0</td>\n",
       "      <td>...</td>\n",
       "      <td>0</td>\n",
       "      <td>0.0</td>\n",
       "      <td>0.0</td>\n",
       "      <td>0.0</td>\n",
       "      <td>0.0</td>\n",
       "      <td>56300000.0</td>\n",
       "      <td>7.071068</td>\n",
       "      <td>56300000.0</td>\n",
       "      <td>56300000.0</td>\n",
       "      <td>Benign</td>\n",
       "    </tr>\n",
       "    <tr>\n",
       "      <td>2</td>\n",
       "      <td>8.0.6.4-8.6.0.1-0-0-0</td>\n",
       "      <td>8.6.0.1</td>\n",
       "      <td>0</td>\n",
       "      <td>8.0.6.4</td>\n",
       "      <td>0</td>\n",
       "      <td>0</td>\n",
       "      <td>20/02/2018 08:36:11</td>\n",
       "      <td>112642712</td>\n",
       "      <td>3</td>\n",
       "      <td>0</td>\n",
       "      <td>...</td>\n",
       "      <td>0</td>\n",
       "      <td>0.0</td>\n",
       "      <td>0.0</td>\n",
       "      <td>0.0</td>\n",
       "      <td>0.0</td>\n",
       "      <td>56300000.0</td>\n",
       "      <td>18.384776</td>\n",
       "      <td>56300000.0</td>\n",
       "      <td>56300000.0</td>\n",
       "      <td>Benign</td>\n",
       "    </tr>\n",
       "    <tr>\n",
       "      <td>3</td>\n",
       "      <td>8.0.6.4-8.6.0.1-0-0-0</td>\n",
       "      <td>8.6.0.1</td>\n",
       "      <td>0</td>\n",
       "      <td>8.0.6.4</td>\n",
       "      <td>0</td>\n",
       "      <td>0</td>\n",
       "      <td>20/02/2018 08:39:00</td>\n",
       "      <td>112642648</td>\n",
       "      <td>3</td>\n",
       "      <td>0</td>\n",
       "      <td>...</td>\n",
       "      <td>0</td>\n",
       "      <td>0.0</td>\n",
       "      <td>0.0</td>\n",
       "      <td>0.0</td>\n",
       "      <td>0.0</td>\n",
       "      <td>56300000.0</td>\n",
       "      <td>5.656854</td>\n",
       "      <td>56300000.0</td>\n",
       "      <td>56300000.0</td>\n",
       "      <td>Benign</td>\n",
       "    </tr>\n",
       "    <tr>\n",
       "      <td>4</td>\n",
       "      <td>8.0.6.4-8.6.0.1-0-0-0</td>\n",
       "      <td>8.6.0.1</td>\n",
       "      <td>0</td>\n",
       "      <td>8.0.6.4</td>\n",
       "      <td>0</td>\n",
       "      <td>0</td>\n",
       "      <td>20/02/2018 08:41:49</td>\n",
       "      <td>112642702</td>\n",
       "      <td>3</td>\n",
       "      <td>0</td>\n",
       "      <td>...</td>\n",
       "      <td>0</td>\n",
       "      <td>0.0</td>\n",
       "      <td>0.0</td>\n",
       "      <td>0.0</td>\n",
       "      <td>0.0</td>\n",
       "      <td>56300000.0</td>\n",
       "      <td>65.053824</td>\n",
       "      <td>56300000.0</td>\n",
       "      <td>56300000.0</td>\n",
       "      <td>Benign</td>\n",
       "    </tr>\n",
       "  </tbody>\n",
       "</table>\n",
       "<p>5 rows × 84 columns</p>\n",
       "</div>"
      ],
      "text/plain": [
       "                                  Flow ID          Src IP  Src Port  \\\n",
       "0  172.31.69.25-94.231.103.172-22-45498-6  94.231.103.172     45498   \n",
       "1                   8.0.6.4-8.6.0.1-0-0-0         8.6.0.1         0   \n",
       "2                   8.0.6.4-8.6.0.1-0-0-0         8.6.0.1         0   \n",
       "3                   8.0.6.4-8.6.0.1-0-0-0         8.6.0.1         0   \n",
       "4                   8.0.6.4-8.6.0.1-0-0-0         8.6.0.1         0   \n",
       "\n",
       "         Dst IP  Dst Port  Protocol            Timestamp  Flow Duration  \\\n",
       "0  172.31.69.25        22         6  20/02/2018 08:34:07         888751   \n",
       "1       8.0.6.4         0         0  20/02/2018 08:33:22      112642816   \n",
       "2       8.0.6.4         0         0  20/02/2018 08:36:11      112642712   \n",
       "3       8.0.6.4         0         0  20/02/2018 08:39:00      112642648   \n",
       "4       8.0.6.4         0         0  20/02/2018 08:41:49      112642702   \n",
       "\n",
       "   Tot Fwd Pkts  Tot Bwd Pkts  ...  Fwd Seg Size Min  Active Mean  Active Std  \\\n",
       "0            11            11  ...                32          0.0         0.0   \n",
       "1             3             0  ...                 0          0.0         0.0   \n",
       "2             3             0  ...                 0          0.0         0.0   \n",
       "3             3             0  ...                 0          0.0         0.0   \n",
       "4             3             0  ...                 0          0.0         0.0   \n",
       "\n",
       "   Active Max  Active Min   Idle Mean   Idle Std    Idle Max    Idle Min  \\\n",
       "0         0.0         0.0         0.0   0.000000         0.0         0.0   \n",
       "1         0.0         0.0  56300000.0   7.071068  56300000.0  56300000.0   \n",
       "2         0.0         0.0  56300000.0  18.384776  56300000.0  56300000.0   \n",
       "3         0.0         0.0  56300000.0   5.656854  56300000.0  56300000.0   \n",
       "4         0.0         0.0  56300000.0  65.053824  56300000.0  56300000.0   \n",
       "\n",
       "    Label  \n",
       "0  Benign  \n",
       "1  Benign  \n",
       "2  Benign  \n",
       "3  Benign  \n",
       "4  Benign  \n",
       "\n",
       "[5 rows x 84 columns]"
      ]
     },
     "execution_count": 4,
     "metadata": {},
     "output_type": "execute_result"
    }
   ],
   "source": [
    "# check if data is loaded correctly\n",
    "df.head()"
   ]
  },
  {
   "cell_type": "code",
   "execution_count": 5,
   "metadata": {},
   "outputs": [
    {
     "data": {
      "text/plain": [
       "<bound method NDFrame.describe of                                         Flow ID          Src IP  Src Port  \\\n",
       "0        172.31.69.25-94.231.103.172-22-45498-6  94.231.103.172     45498   \n",
       "1                         8.0.6.4-8.6.0.1-0-0-0         8.6.0.1         0   \n",
       "2                         8.0.6.4-8.6.0.1-0-0-0         8.6.0.1         0   \n",
       "3                         8.0.6.4-8.6.0.1-0-0-0         8.6.0.1         0   \n",
       "4                         8.0.6.4-8.6.0.1-0-0-0         8.6.0.1         0   \n",
       "...                                         ...             ...       ...   \n",
       "7948743    172.31.69.7-185.2.197.19-623-42801-6    185.2.197.19     42801   \n",
       "7948744     172.31.69.7-195.22.125.42-22-2178-6   195.22.125.42      2178   \n",
       "7948745     172.31.69.7-107.3.188.61-23-14259-6    107.3.188.61     14259   \n",
       "7948746   172.31.69.7-5.188.11.188-3039-54193-6    5.188.11.188     54193   \n",
       "7948747   172.31.69.7-188.19.76.194-445-57958-6   188.19.76.194     57958   \n",
       "\n",
       "               Dst IP  Dst Port  Protocol            Timestamp  Flow Duration  \\\n",
       "0        172.31.69.25        22         6  20/02/2018 08:34:07         888751   \n",
       "1             8.0.6.4         0         0  20/02/2018 08:33:22      112642816   \n",
       "2             8.0.6.4         0         0  20/02/2018 08:36:11      112642712   \n",
       "3             8.0.6.4         0         0  20/02/2018 08:39:00      112642648   \n",
       "4             8.0.6.4         0         0  20/02/2018 08:41:49      112642702   \n",
       "...               ...       ...       ...                  ...            ...   \n",
       "7948743   172.31.69.7       623         6  20/02/2018 01:41:45          94042   \n",
       "7948744   172.31.69.7        22         6  20/02/2018 11:51:06         251281   \n",
       "7948745   172.31.69.7        23         6  20/02/2018 08:49:20             21   \n",
       "7948746   172.31.69.7      3039         6  20/02/2018 02:00:54         181954   \n",
       "7948747   172.31.69.7       445         6  20/02/2018 04:07:01         687378   \n",
       "\n",
       "         Tot Fwd Pkts  Tot Bwd Pkts  ...  Fwd Seg Size Min  Active Mean  \\\n",
       "0                  11            11  ...                32          0.0   \n",
       "1                   3             0  ...                 0          0.0   \n",
       "2                   3             0  ...                 0          0.0   \n",
       "3                   3             0  ...                 0          0.0   \n",
       "4                   3             0  ...                 0          0.0   \n",
       "...               ...           ...  ...               ...          ...   \n",
       "7948743             2             1  ...                20          0.0   \n",
       "7948744             4             2  ...                20          0.0   \n",
       "7948745             1             1  ...                20          0.0   \n",
       "7948746             2             1  ...                20          0.0   \n",
       "7948747             2             2  ...                32          0.0   \n",
       "\n",
       "         Active Std  Active Max  Active Min   Idle Mean   Idle Std  \\\n",
       "0               0.0         0.0         0.0         0.0   0.000000   \n",
       "1               0.0         0.0         0.0  56300000.0   7.071068   \n",
       "2               0.0         0.0         0.0  56300000.0  18.384776   \n",
       "3               0.0         0.0         0.0  56300000.0   5.656854   \n",
       "4               0.0         0.0         0.0  56300000.0  65.053824   \n",
       "...             ...         ...         ...         ...        ...   \n",
       "7948743         0.0         0.0         0.0         0.0   0.000000   \n",
       "7948744         0.0         0.0         0.0         0.0   0.000000   \n",
       "7948745         0.0         0.0         0.0         0.0   0.000000   \n",
       "7948746         0.0         0.0         0.0         0.0   0.000000   \n",
       "7948747         0.0         0.0         0.0         0.0   0.000000   \n",
       "\n",
       "           Idle Max    Idle Min   Label  \n",
       "0               0.0         0.0  Benign  \n",
       "1        56300000.0  56300000.0  Benign  \n",
       "2        56300000.0  56300000.0  Benign  \n",
       "3        56300000.0  56300000.0  Benign  \n",
       "4        56300000.0  56300000.0  Benign  \n",
       "...             ...         ...     ...  \n",
       "7948743         0.0         0.0  Benign  \n",
       "7948744         0.0         0.0  Benign  \n",
       "7948745         0.0         0.0  Benign  \n",
       "7948746         0.0         0.0  Benign  \n",
       "7948747         0.0         0.0  Benign  \n",
       "\n",
       "[7948748 rows x 84 columns]>"
      ]
     },
     "execution_count": 5,
     "metadata": {},
     "output_type": "execute_result"
    }
   ],
   "source": [
    "df.describe"
   ]
  },
  {
   "cell_type": "code",
   "execution_count": 6,
   "metadata": {},
   "outputs": [
    {
     "data": {
      "text/plain": [
       "(7948748, 84)"
      ]
     },
     "execution_count": 6,
     "metadata": {},
     "output_type": "execute_result"
    }
   ],
   "source": [
    "# Check the dimensions\n",
    "df.shape\n",
    "\n",
    "# df20180222.shape\n",
    "# (1048575, 80)\n",
    "\n",
    "# df20180301.shape\n",
    "# (331125, 80)\n",
    "\n",
    "# df_big.shape\n",
    "# (7948748, 84)"
   ]
  },
  {
   "cell_type": "code",
   "execution_count": 7,
   "metadata": {},
   "outputs": [
    {
     "name": "stdout",
     "output_type": "stream",
     "text": [
      "<class 'pandas.core.frame.DataFrame'>\n",
      "RangeIndex: 7948748 entries, 0 to 7948747\n",
      "Data columns (total 84 columns):\n",
      "Flow ID              object\n",
      "Src IP               object\n",
      "Src Port             int64\n",
      "Dst IP               object\n",
      "Dst Port             int64\n",
      "Protocol             int64\n",
      "Timestamp            object\n",
      "Flow Duration        int64\n",
      "Tot Fwd Pkts         int64\n",
      "Tot Bwd Pkts         int64\n",
      "TotLen Fwd Pkts      float64\n",
      "TotLen Bwd Pkts      float64\n",
      "Fwd Pkt Len Max      float64\n",
      "Fwd Pkt Len Min      float64\n",
      "Fwd Pkt Len Mean     float64\n",
      "Fwd Pkt Len Std      float64\n",
      "Bwd Pkt Len Max      float64\n",
      "Bwd Pkt Len Min      float64\n",
      "Bwd Pkt Len Mean     float64\n",
      "Bwd Pkt Len Std      float64\n",
      "Flow Byts/s          object\n",
      "Flow Pkts/s          object\n",
      "Flow IAT Mean        float64\n",
      "Flow IAT Std         float64\n",
      "Flow IAT Max         float64\n",
      "Flow IAT Min         float64\n",
      "Fwd IAT Tot          float64\n",
      "Fwd IAT Mean         float64\n",
      "Fwd IAT Std          float64\n",
      "Fwd IAT Max          float64\n",
      "Fwd IAT Min          float64\n",
      "Bwd IAT Tot          float64\n",
      "Bwd IAT Mean         float64\n",
      "Bwd IAT Std          float64\n",
      "Bwd IAT Max          float64\n",
      "Bwd IAT Min          float64\n",
      "Fwd PSH Flags        int64\n",
      "Bwd PSH Flags        int64\n",
      "Fwd URG Flags        int64\n",
      "Bwd URG Flags        int64\n",
      "Fwd Header Len       int64\n",
      "Bwd Header Len       int64\n",
      "Fwd Pkts/s           float64\n",
      "Bwd Pkts/s           float64\n",
      "Pkt Len Min          float64\n",
      "Pkt Len Max          float64\n",
      "Pkt Len Mean         float64\n",
      "Pkt Len Std          float64\n",
      "Pkt Len Var          float64\n",
      "FIN Flag Cnt         int64\n",
      "SYN Flag Cnt         int64\n",
      "RST Flag Cnt         int64\n",
      "PSH Flag Cnt         int64\n",
      "ACK Flag Cnt         int64\n",
      "URG Flag Cnt         int64\n",
      "CWE Flag Count       int64\n",
      "ECE Flag Cnt         int64\n",
      "Down/Up Ratio        float64\n",
      "Pkt Size Avg         float64\n",
      "Fwd Seg Size Avg     float64\n",
      "Bwd Seg Size Avg     float64\n",
      "Fwd Byts/b Avg       int64\n",
      "Fwd Pkts/b Avg       int64\n",
      "Fwd Blk Rate Avg     int64\n",
      "Bwd Byts/b Avg       int64\n",
      "Bwd Pkts/b Avg       int64\n",
      "Bwd Blk Rate Avg     int64\n",
      "Subflow Fwd Pkts     int64\n",
      "Subflow Fwd Byts     int64\n",
      "Subflow Bwd Pkts     int64\n",
      "Subflow Bwd Byts     int64\n",
      "Init Fwd Win Byts    int64\n",
      "Init Bwd Win Byts    int64\n",
      "Fwd Act Data Pkts    int64\n",
      "Fwd Seg Size Min     int64\n",
      "Active Mean          float64\n",
      "Active Std           float64\n",
      "Active Max           float64\n",
      "Active Min           float64\n",
      "Idle Mean            float64\n",
      "Idle Std             float64\n",
      "Idle Max             float64\n",
      "Idle Min             float64\n",
      "Label                object\n",
      "dtypes: float64(43), int64(34), object(7)\n",
      "memory usage: 5.0+ GB\n"
     ]
    }
   ],
   "source": [
    "#Check the features\n",
    "df.info()"
   ]
  },
  {
   "cell_type": "code",
   "execution_count": 8,
   "metadata": {},
   "outputs": [
    {
     "data": {
      "text/plain": [
       "Index(['Flow ID', 'Src IP', 'Src Port', 'Dst IP', 'Dst Port', 'Protocol',\n",
       "       'Timestamp', 'Flow Duration', 'Tot Fwd Pkts', 'Tot Bwd Pkts',\n",
       "       'TotLen Fwd Pkts', 'TotLen Bwd Pkts', 'Fwd Pkt Len Max',\n",
       "       'Fwd Pkt Len Min', 'Fwd Pkt Len Mean', 'Fwd Pkt Len Std',\n",
       "       'Bwd Pkt Len Max', 'Bwd Pkt Len Min', 'Bwd Pkt Len Mean',\n",
       "       'Bwd Pkt Len Std', 'Flow Byts/s', 'Flow Pkts/s', 'Flow IAT Mean',\n",
       "       'Flow IAT Std', 'Flow IAT Max', 'Flow IAT Min', 'Fwd IAT Tot',\n",
       "       'Fwd IAT Mean', 'Fwd IAT Std', 'Fwd IAT Max', 'Fwd IAT Min',\n",
       "       'Bwd IAT Tot', 'Bwd IAT Mean', 'Bwd IAT Std', 'Bwd IAT Max',\n",
       "       'Bwd IAT Min', 'Fwd PSH Flags', 'Bwd PSH Flags', 'Fwd URG Flags',\n",
       "       'Bwd URG Flags', 'Fwd Header Len', 'Bwd Header Len', 'Fwd Pkts/s',\n",
       "       'Bwd Pkts/s', 'Pkt Len Min', 'Pkt Len Max', 'Pkt Len Mean',\n",
       "       'Pkt Len Std', 'Pkt Len Var', 'FIN Flag Cnt', 'SYN Flag Cnt',\n",
       "       'RST Flag Cnt', 'PSH Flag Cnt', 'ACK Flag Cnt', 'URG Flag Cnt',\n",
       "       'CWE Flag Count', 'ECE Flag Cnt', 'Down/Up Ratio', 'Pkt Size Avg',\n",
       "       'Fwd Seg Size Avg', 'Bwd Seg Size Avg', 'Fwd Byts/b Avg',\n",
       "       'Fwd Pkts/b Avg', 'Fwd Blk Rate Avg', 'Bwd Byts/b Avg',\n",
       "       'Bwd Pkts/b Avg', 'Bwd Blk Rate Avg', 'Subflow Fwd Pkts',\n",
       "       'Subflow Fwd Byts', 'Subflow Bwd Pkts', 'Subflow Bwd Byts',\n",
       "       'Init Fwd Win Byts', 'Init Bwd Win Byts', 'Fwd Act Data Pkts',\n",
       "       'Fwd Seg Size Min', 'Active Mean', 'Active Std', 'Active Max',\n",
       "       'Active Min', 'Idle Mean', 'Idle Std', 'Idle Max', 'Idle Min', 'Label'],\n",
       "      dtype='object')"
      ]
     },
     "execution_count": 8,
     "metadata": {},
     "output_type": "execute_result"
    }
   ],
   "source": [
    "#Check for Column Names\n",
    "df.columns"
   ]
  },
  {
   "cell_type": "code",
   "execution_count": 9,
   "metadata": {},
   "outputs": [
    {
     "data": {
      "text/html": [
       "<div>\n",
       "<style scoped>\n",
       "    .dataframe tbody tr th:only-of-type {\n",
       "        vertical-align: middle;\n",
       "    }\n",
       "\n",
       "    .dataframe tbody tr th {\n",
       "        vertical-align: top;\n",
       "    }\n",
       "\n",
       "    .dataframe thead th {\n",
       "        text-align: right;\n",
       "    }\n",
       "</style>\n",
       "<table border=\"1\" class=\"dataframe\">\n",
       "  <thead>\n",
       "    <tr style=\"text-align: right;\">\n",
       "      <th></th>\n",
       "      <th>Flow ID</th>\n",
       "      <th>Src IP</th>\n",
       "      <th>Src Port</th>\n",
       "      <th>Dst IP</th>\n",
       "      <th>Dst Port</th>\n",
       "      <th>Protocol</th>\n",
       "      <th>Timestamp</th>\n",
       "      <th>Flow Duration</th>\n",
       "      <th>Tot Fwd Pkts</th>\n",
       "      <th>Tot Bwd Pkts</th>\n",
       "      <th>...</th>\n",
       "      <th>Fwd Seg Size Min</th>\n",
       "      <th>Active Mean</th>\n",
       "      <th>Active Std</th>\n",
       "      <th>Active Max</th>\n",
       "      <th>Active Min</th>\n",
       "      <th>Idle Mean</th>\n",
       "      <th>Idle Std</th>\n",
       "      <th>Idle Max</th>\n",
       "      <th>Idle Min</th>\n",
       "      <th>Label</th>\n",
       "    </tr>\n",
       "  </thead>\n",
       "  <tbody>\n",
       "    <tr>\n",
       "      <td>count</td>\n",
       "      <td>7948748</td>\n",
       "      <td>7948748</td>\n",
       "      <td>7.948748e+06</td>\n",
       "      <td>7948748</td>\n",
       "      <td>7.948748e+06</td>\n",
       "      <td>7.948748e+06</td>\n",
       "      <td>7948748</td>\n",
       "      <td>7.948748e+06</td>\n",
       "      <td>7.948748e+06</td>\n",
       "      <td>7.948748e+06</td>\n",
       "      <td>...</td>\n",
       "      <td>7.948748e+06</td>\n",
       "      <td>7.948748e+06</td>\n",
       "      <td>7.948748e+06</td>\n",
       "      <td>7.948748e+06</td>\n",
       "      <td>7.948748e+06</td>\n",
       "      <td>7.948748e+06</td>\n",
       "      <td>7.948748e+06</td>\n",
       "      <td>7.948748e+06</td>\n",
       "      <td>7.948748e+06</td>\n",
       "      <td>7948748</td>\n",
       "    </tr>\n",
       "    <tr>\n",
       "      <td>unique</td>\n",
       "      <td>5030830</td>\n",
       "      <td>31291</td>\n",
       "      <td>NaN</td>\n",
       "      <td>27076</td>\n",
       "      <td>NaN</td>\n",
       "      <td>NaN</td>\n",
       "      <td>38478</td>\n",
       "      <td>NaN</td>\n",
       "      <td>NaN</td>\n",
       "      <td>NaN</td>\n",
       "      <td>...</td>\n",
       "      <td>NaN</td>\n",
       "      <td>NaN</td>\n",
       "      <td>NaN</td>\n",
       "      <td>NaN</td>\n",
       "      <td>NaN</td>\n",
       "      <td>NaN</td>\n",
       "      <td>NaN</td>\n",
       "      <td>NaN</td>\n",
       "      <td>NaN</td>\n",
       "      <td>2</td>\n",
       "    </tr>\n",
       "    <tr>\n",
       "      <td>top</td>\n",
       "      <td>8.0.6.4-8.6.0.1-0-0-0</td>\n",
       "      <td>8.6.0.1</td>\n",
       "      <td>NaN</td>\n",
       "      <td>172.31.0.2</td>\n",
       "      <td>NaN</td>\n",
       "      <td>NaN</td>\n",
       "      <td>20/02/2018 08:29:42</td>\n",
       "      <td>NaN</td>\n",
       "      <td>NaN</td>\n",
       "      <td>NaN</td>\n",
       "      <td>...</td>\n",
       "      <td>NaN</td>\n",
       "      <td>NaN</td>\n",
       "      <td>NaN</td>\n",
       "      <td>NaN</td>\n",
       "      <td>NaN</td>\n",
       "      <td>NaN</td>\n",
       "      <td>NaN</td>\n",
       "      <td>NaN</td>\n",
       "      <td>NaN</td>\n",
       "      <td>Benign</td>\n",
       "    </tr>\n",
       "    <tr>\n",
       "      <td>freq</td>\n",
       "      <td>93775</td>\n",
       "      <td>93775</td>\n",
       "      <td>NaN</td>\n",
       "      <td>2457307</td>\n",
       "      <td>NaN</td>\n",
       "      <td>NaN</td>\n",
       "      <td>850</td>\n",
       "      <td>NaN</td>\n",
       "      <td>NaN</td>\n",
       "      <td>NaN</td>\n",
       "      <td>...</td>\n",
       "      <td>NaN</td>\n",
       "      <td>NaN</td>\n",
       "      <td>NaN</td>\n",
       "      <td>NaN</td>\n",
       "      <td>NaN</td>\n",
       "      <td>NaN</td>\n",
       "      <td>NaN</td>\n",
       "      <td>NaN</td>\n",
       "      <td>NaN</td>\n",
       "      <td>7372557</td>\n",
       "    </tr>\n",
       "    <tr>\n",
       "      <td>mean</td>\n",
       "      <td>NaN</td>\n",
       "      <td>NaN</td>\n",
       "      <td>4.527693e+04</td>\n",
       "      <td>NaN</td>\n",
       "      <td>7.364011e+03</td>\n",
       "      <td>9.363284e+00</td>\n",
       "      <td>NaN</td>\n",
       "      <td>1.353327e+07</td>\n",
       "      <td>1.698159e+01</td>\n",
       "      <td>6.713097e+00</td>\n",
       "      <td>...</td>\n",
       "      <td>1.597078e+01</td>\n",
       "      <td>2.591440e+05</td>\n",
       "      <td>1.328942e+05</td>\n",
       "      <td>3.871102e+05</td>\n",
       "      <td>1.694898e+05</td>\n",
       "      <td>5.174784e+06</td>\n",
       "      <td>1.802277e+05</td>\n",
       "      <td>5.322670e+06</td>\n",
       "      <td>5.006831e+06</td>\n",
       "      <td>NaN</td>\n",
       "    </tr>\n",
       "    <tr>\n",
       "      <td>std</td>\n",
       "      <td>NaN</td>\n",
       "      <td>NaN</td>\n",
       "      <td>2.112095e+04</td>\n",
       "      <td>NaN</td>\n",
       "      <td>1.727306e+04</td>\n",
       "      <td>5.247283e+00</td>\n",
       "      <td>NaN</td>\n",
       "      <td>3.243525e+07</td>\n",
       "      <td>1.244368e+03</td>\n",
       "      <td>1.580529e+02</td>\n",
       "      <td>...</td>\n",
       "      <td>6.187313e+00</td>\n",
       "      <td>3.244362e+06</td>\n",
       "      <td>1.978675e+06</td>\n",
       "      <td>4.296665e+06</td>\n",
       "      <td>2.728013e+06</td>\n",
       "      <td>1.533011e+07</td>\n",
       "      <td>1.805569e+06</td>\n",
       "      <td>1.562210e+07</td>\n",
       "      <td>1.517835e+07</td>\n",
       "      <td>NaN</td>\n",
       "    </tr>\n",
       "    <tr>\n",
       "      <td>min</td>\n",
       "      <td>NaN</td>\n",
       "      <td>NaN</td>\n",
       "      <td>0.000000e+00</td>\n",
       "      <td>NaN</td>\n",
       "      <td>0.000000e+00</td>\n",
       "      <td>0.000000e+00</td>\n",
       "      <td>NaN</td>\n",
       "      <td>0.000000e+00</td>\n",
       "      <td>1.000000e+00</td>\n",
       "      <td>0.000000e+00</td>\n",
       "      <td>...</td>\n",
       "      <td>0.000000e+00</td>\n",
       "      <td>0.000000e+00</td>\n",
       "      <td>0.000000e+00</td>\n",
       "      <td>0.000000e+00</td>\n",
       "      <td>0.000000e+00</td>\n",
       "      <td>0.000000e+00</td>\n",
       "      <td>0.000000e+00</td>\n",
       "      <td>0.000000e+00</td>\n",
       "      <td>0.000000e+00</td>\n",
       "      <td>NaN</td>\n",
       "    </tr>\n",
       "    <tr>\n",
       "      <td>25%</td>\n",
       "      <td>NaN</td>\n",
       "      <td>NaN</td>\n",
       "      <td>4.970600e+04</td>\n",
       "      <td>NaN</td>\n",
       "      <td>5.300000e+01</td>\n",
       "      <td>6.000000e+00</td>\n",
       "      <td>NaN</td>\n",
       "      <td>4.480000e+02</td>\n",
       "      <td>1.000000e+00</td>\n",
       "      <td>1.000000e+00</td>\n",
       "      <td>...</td>\n",
       "      <td>8.000000e+00</td>\n",
       "      <td>0.000000e+00</td>\n",
       "      <td>0.000000e+00</td>\n",
       "      <td>0.000000e+00</td>\n",
       "      <td>0.000000e+00</td>\n",
       "      <td>0.000000e+00</td>\n",
       "      <td>0.000000e+00</td>\n",
       "      <td>0.000000e+00</td>\n",
       "      <td>0.000000e+00</td>\n",
       "      <td>NaN</td>\n",
       "    </tr>\n",
       "    <tr>\n",
       "      <td>50%</td>\n",
       "      <td>NaN</td>\n",
       "      <td>NaN</td>\n",
       "      <td>5.241300e+04</td>\n",
       "      <td>NaN</td>\n",
       "      <td>8.000000e+01</td>\n",
       "      <td>6.000000e+00</td>\n",
       "      <td>NaN</td>\n",
       "      <td>5.207900e+04</td>\n",
       "      <td>2.000000e+00</td>\n",
       "      <td>1.000000e+00</td>\n",
       "      <td>...</td>\n",
       "      <td>2.000000e+01</td>\n",
       "      <td>0.000000e+00</td>\n",
       "      <td>0.000000e+00</td>\n",
       "      <td>0.000000e+00</td>\n",
       "      <td>0.000000e+00</td>\n",
       "      <td>0.000000e+00</td>\n",
       "      <td>0.000000e+00</td>\n",
       "      <td>0.000000e+00</td>\n",
       "      <td>0.000000e+00</td>\n",
       "      <td>NaN</td>\n",
       "    </tr>\n",
       "    <tr>\n",
       "      <td>75%</td>\n",
       "      <td>NaN</td>\n",
       "      <td>NaN</td>\n",
       "      <td>5.779900e+04</td>\n",
       "      <td>NaN</td>\n",
       "      <td>3.389000e+03</td>\n",
       "      <td>1.700000e+01</td>\n",
       "      <td>NaN</td>\n",
       "      <td>3.170154e+06</td>\n",
       "      <td>7.000000e+00</td>\n",
       "      <td>5.000000e+00</td>\n",
       "      <td>...</td>\n",
       "      <td>2.000000e+01</td>\n",
       "      <td>0.000000e+00</td>\n",
       "      <td>0.000000e+00</td>\n",
       "      <td>0.000000e+00</td>\n",
       "      <td>0.000000e+00</td>\n",
       "      <td>0.000000e+00</td>\n",
       "      <td>0.000000e+00</td>\n",
       "      <td>0.000000e+00</td>\n",
       "      <td>0.000000e+00</td>\n",
       "      <td>NaN</td>\n",
       "    </tr>\n",
       "    <tr>\n",
       "      <td>max</td>\n",
       "      <td>NaN</td>\n",
       "      <td>NaN</td>\n",
       "      <td>6.553500e+04</td>\n",
       "      <td>NaN</td>\n",
       "      <td>6.553500e+04</td>\n",
       "      <td>1.700000e+01</td>\n",
       "      <td>NaN</td>\n",
       "      <td>1.200000e+08</td>\n",
       "      <td>2.800430e+05</td>\n",
       "      <td>2.580600e+04</td>\n",
       "      <td>...</td>\n",
       "      <td>4.800000e+01</td>\n",
       "      <td>1.132691e+08</td>\n",
       "      <td>7.523241e+07</td>\n",
       "      <td>1.132691e+08</td>\n",
       "      <td>1.132691e+08</td>\n",
       "      <td>1.200000e+08</td>\n",
       "      <td>7.639395e+07</td>\n",
       "      <td>1.200000e+08</td>\n",
       "      <td>1.200000e+08</td>\n",
       "      <td>NaN</td>\n",
       "    </tr>\n",
       "  </tbody>\n",
       "</table>\n",
       "<p>11 rows × 84 columns</p>\n",
       "</div>"
      ],
      "text/plain": [
       "                      Flow ID   Src IP      Src Port      Dst IP  \\\n",
       "count                 7948748  7948748  7.948748e+06     7948748   \n",
       "unique                5030830    31291           NaN       27076   \n",
       "top     8.0.6.4-8.6.0.1-0-0-0  8.6.0.1           NaN  172.31.0.2   \n",
       "freq                    93775    93775           NaN     2457307   \n",
       "mean                      NaN      NaN  4.527693e+04         NaN   \n",
       "std                       NaN      NaN  2.112095e+04         NaN   \n",
       "min                       NaN      NaN  0.000000e+00         NaN   \n",
       "25%                       NaN      NaN  4.970600e+04         NaN   \n",
       "50%                       NaN      NaN  5.241300e+04         NaN   \n",
       "75%                       NaN      NaN  5.779900e+04         NaN   \n",
       "max                       NaN      NaN  6.553500e+04         NaN   \n",
       "\n",
       "            Dst Port      Protocol            Timestamp  Flow Duration  \\\n",
       "count   7.948748e+06  7.948748e+06              7948748   7.948748e+06   \n",
       "unique           NaN           NaN                38478            NaN   \n",
       "top              NaN           NaN  20/02/2018 08:29:42            NaN   \n",
       "freq             NaN           NaN                  850            NaN   \n",
       "mean    7.364011e+03  9.363284e+00                  NaN   1.353327e+07   \n",
       "std     1.727306e+04  5.247283e+00                  NaN   3.243525e+07   \n",
       "min     0.000000e+00  0.000000e+00                  NaN   0.000000e+00   \n",
       "25%     5.300000e+01  6.000000e+00                  NaN   4.480000e+02   \n",
       "50%     8.000000e+01  6.000000e+00                  NaN   5.207900e+04   \n",
       "75%     3.389000e+03  1.700000e+01                  NaN   3.170154e+06   \n",
       "max     6.553500e+04  1.700000e+01                  NaN   1.200000e+08   \n",
       "\n",
       "        Tot Fwd Pkts  Tot Bwd Pkts  ...  Fwd Seg Size Min   Active Mean  \\\n",
       "count   7.948748e+06  7.948748e+06  ...      7.948748e+06  7.948748e+06   \n",
       "unique           NaN           NaN  ...               NaN           NaN   \n",
       "top              NaN           NaN  ...               NaN           NaN   \n",
       "freq             NaN           NaN  ...               NaN           NaN   \n",
       "mean    1.698159e+01  6.713097e+00  ...      1.597078e+01  2.591440e+05   \n",
       "std     1.244368e+03  1.580529e+02  ...      6.187313e+00  3.244362e+06   \n",
       "min     1.000000e+00  0.000000e+00  ...      0.000000e+00  0.000000e+00   \n",
       "25%     1.000000e+00  1.000000e+00  ...      8.000000e+00  0.000000e+00   \n",
       "50%     2.000000e+00  1.000000e+00  ...      2.000000e+01  0.000000e+00   \n",
       "75%     7.000000e+00  5.000000e+00  ...      2.000000e+01  0.000000e+00   \n",
       "max     2.800430e+05  2.580600e+04  ...      4.800000e+01  1.132691e+08   \n",
       "\n",
       "          Active Std    Active Max    Active Min     Idle Mean      Idle Std  \\\n",
       "count   7.948748e+06  7.948748e+06  7.948748e+06  7.948748e+06  7.948748e+06   \n",
       "unique           NaN           NaN           NaN           NaN           NaN   \n",
       "top              NaN           NaN           NaN           NaN           NaN   \n",
       "freq             NaN           NaN           NaN           NaN           NaN   \n",
       "mean    1.328942e+05  3.871102e+05  1.694898e+05  5.174784e+06  1.802277e+05   \n",
       "std     1.978675e+06  4.296665e+06  2.728013e+06  1.533011e+07  1.805569e+06   \n",
       "min     0.000000e+00  0.000000e+00  0.000000e+00  0.000000e+00  0.000000e+00   \n",
       "25%     0.000000e+00  0.000000e+00  0.000000e+00  0.000000e+00  0.000000e+00   \n",
       "50%     0.000000e+00  0.000000e+00  0.000000e+00  0.000000e+00  0.000000e+00   \n",
       "75%     0.000000e+00  0.000000e+00  0.000000e+00  0.000000e+00  0.000000e+00   \n",
       "max     7.523241e+07  1.132691e+08  1.132691e+08  1.200000e+08  7.639395e+07   \n",
       "\n",
       "            Idle Max      Idle Min    Label  \n",
       "count   7.948748e+06  7.948748e+06  7948748  \n",
       "unique           NaN           NaN        2  \n",
       "top              NaN           NaN   Benign  \n",
       "freq             NaN           NaN  7372557  \n",
       "mean    5.322670e+06  5.006831e+06      NaN  \n",
       "std     1.562210e+07  1.517835e+07      NaN  \n",
       "min     0.000000e+00  0.000000e+00      NaN  \n",
       "25%     0.000000e+00  0.000000e+00      NaN  \n",
       "50%     0.000000e+00  0.000000e+00      NaN  \n",
       "75%     0.000000e+00  0.000000e+00      NaN  \n",
       "max     1.200000e+08  1.200000e+08      NaN  \n",
       "\n",
       "[11 rows x 84 columns]"
      ]
     },
     "execution_count": 9,
     "metadata": {},
     "output_type": "execute_result"
    }
   ],
   "source": [
    "#Get the Stats on the Data\n",
    "df.describe(include='all')"
   ]
  },
  {
   "cell_type": "code",
   "execution_count": 10,
   "metadata": {},
   "outputs": [
    {
     "data": {
      "text/html": [
       "<div>\n",
       "<style scoped>\n",
       "    .dataframe tbody tr th:only-of-type {\n",
       "        vertical-align: middle;\n",
       "    }\n",
       "\n",
       "    .dataframe tbody tr th {\n",
       "        vertical-align: top;\n",
       "    }\n",
       "\n",
       "    .dataframe thead th {\n",
       "        text-align: right;\n",
       "    }\n",
       "</style>\n",
       "<table border=\"1\" class=\"dataframe\">\n",
       "  <thead>\n",
       "    <tr style=\"text-align: right;\">\n",
       "      <th></th>\n",
       "      <th>Flow ID</th>\n",
       "      <th>Src IP</th>\n",
       "      <th>Src Port</th>\n",
       "      <th>Dst IP</th>\n",
       "      <th>Dst Port</th>\n",
       "      <th>Protocol</th>\n",
       "      <th>Timestamp</th>\n",
       "      <th>Flow Duration</th>\n",
       "      <th>Tot Fwd Pkts</th>\n",
       "      <th>Tot Bwd Pkts</th>\n",
       "      <th>...</th>\n",
       "      <th>Fwd Seg Size Min</th>\n",
       "      <th>Active Mean</th>\n",
       "      <th>Active Std</th>\n",
       "      <th>Active Max</th>\n",
       "      <th>Active Min</th>\n",
       "      <th>Idle Mean</th>\n",
       "      <th>Idle Std</th>\n",
       "      <th>Idle Max</th>\n",
       "      <th>Idle Min</th>\n",
       "      <th>Label</th>\n",
       "    </tr>\n",
       "  </thead>\n",
       "  <tbody>\n",
       "    <tr>\n",
       "      <td>7948743</td>\n",
       "      <td>172.31.69.7-185.2.197.19-623-42801-6</td>\n",
       "      <td>185.2.197.19</td>\n",
       "      <td>42801</td>\n",
       "      <td>172.31.69.7</td>\n",
       "      <td>623</td>\n",
       "      <td>6</td>\n",
       "      <td>20/02/2018 01:41:45</td>\n",
       "      <td>94042</td>\n",
       "      <td>2</td>\n",
       "      <td>1</td>\n",
       "      <td>...</td>\n",
       "      <td>20</td>\n",
       "      <td>0.0</td>\n",
       "      <td>0.0</td>\n",
       "      <td>0.0</td>\n",
       "      <td>0.0</td>\n",
       "      <td>0.0</td>\n",
       "      <td>0.0</td>\n",
       "      <td>0.0</td>\n",
       "      <td>0.0</td>\n",
       "      <td>Benign</td>\n",
       "    </tr>\n",
       "    <tr>\n",
       "      <td>7948744</td>\n",
       "      <td>172.31.69.7-195.22.125.42-22-2178-6</td>\n",
       "      <td>195.22.125.42</td>\n",
       "      <td>2178</td>\n",
       "      <td>172.31.69.7</td>\n",
       "      <td>22</td>\n",
       "      <td>6</td>\n",
       "      <td>20/02/2018 11:51:06</td>\n",
       "      <td>251281</td>\n",
       "      <td>4</td>\n",
       "      <td>2</td>\n",
       "      <td>...</td>\n",
       "      <td>20</td>\n",
       "      <td>0.0</td>\n",
       "      <td>0.0</td>\n",
       "      <td>0.0</td>\n",
       "      <td>0.0</td>\n",
       "      <td>0.0</td>\n",
       "      <td>0.0</td>\n",
       "      <td>0.0</td>\n",
       "      <td>0.0</td>\n",
       "      <td>Benign</td>\n",
       "    </tr>\n",
       "    <tr>\n",
       "      <td>7948745</td>\n",
       "      <td>172.31.69.7-107.3.188.61-23-14259-6</td>\n",
       "      <td>107.3.188.61</td>\n",
       "      <td>14259</td>\n",
       "      <td>172.31.69.7</td>\n",
       "      <td>23</td>\n",
       "      <td>6</td>\n",
       "      <td>20/02/2018 08:49:20</td>\n",
       "      <td>21</td>\n",
       "      <td>1</td>\n",
       "      <td>1</td>\n",
       "      <td>...</td>\n",
       "      <td>20</td>\n",
       "      <td>0.0</td>\n",
       "      <td>0.0</td>\n",
       "      <td>0.0</td>\n",
       "      <td>0.0</td>\n",
       "      <td>0.0</td>\n",
       "      <td>0.0</td>\n",
       "      <td>0.0</td>\n",
       "      <td>0.0</td>\n",
       "      <td>Benign</td>\n",
       "    </tr>\n",
       "    <tr>\n",
       "      <td>7948746</td>\n",
       "      <td>172.31.69.7-5.188.11.188-3039-54193-6</td>\n",
       "      <td>5.188.11.188</td>\n",
       "      <td>54193</td>\n",
       "      <td>172.31.69.7</td>\n",
       "      <td>3039</td>\n",
       "      <td>6</td>\n",
       "      <td>20/02/2018 02:00:54</td>\n",
       "      <td>181954</td>\n",
       "      <td>2</td>\n",
       "      <td>1</td>\n",
       "      <td>...</td>\n",
       "      <td>20</td>\n",
       "      <td>0.0</td>\n",
       "      <td>0.0</td>\n",
       "      <td>0.0</td>\n",
       "      <td>0.0</td>\n",
       "      <td>0.0</td>\n",
       "      <td>0.0</td>\n",
       "      <td>0.0</td>\n",
       "      <td>0.0</td>\n",
       "      <td>Benign</td>\n",
       "    </tr>\n",
       "    <tr>\n",
       "      <td>7948747</td>\n",
       "      <td>172.31.69.7-188.19.76.194-445-57958-6</td>\n",
       "      <td>188.19.76.194</td>\n",
       "      <td>57958</td>\n",
       "      <td>172.31.69.7</td>\n",
       "      <td>445</td>\n",
       "      <td>6</td>\n",
       "      <td>20/02/2018 04:07:01</td>\n",
       "      <td>687378</td>\n",
       "      <td>2</td>\n",
       "      <td>2</td>\n",
       "      <td>...</td>\n",
       "      <td>32</td>\n",
       "      <td>0.0</td>\n",
       "      <td>0.0</td>\n",
       "      <td>0.0</td>\n",
       "      <td>0.0</td>\n",
       "      <td>0.0</td>\n",
       "      <td>0.0</td>\n",
       "      <td>0.0</td>\n",
       "      <td>0.0</td>\n",
       "      <td>Benign</td>\n",
       "    </tr>\n",
       "  </tbody>\n",
       "</table>\n",
       "<p>5 rows × 84 columns</p>\n",
       "</div>"
      ],
      "text/plain": [
       "                                       Flow ID         Src IP  Src Port  \\\n",
       "7948743   172.31.69.7-185.2.197.19-623-42801-6   185.2.197.19     42801   \n",
       "7948744    172.31.69.7-195.22.125.42-22-2178-6  195.22.125.42      2178   \n",
       "7948745    172.31.69.7-107.3.188.61-23-14259-6   107.3.188.61     14259   \n",
       "7948746  172.31.69.7-5.188.11.188-3039-54193-6   5.188.11.188     54193   \n",
       "7948747  172.31.69.7-188.19.76.194-445-57958-6  188.19.76.194     57958   \n",
       "\n",
       "              Dst IP  Dst Port  Protocol            Timestamp  Flow Duration  \\\n",
       "7948743  172.31.69.7       623         6  20/02/2018 01:41:45          94042   \n",
       "7948744  172.31.69.7        22         6  20/02/2018 11:51:06         251281   \n",
       "7948745  172.31.69.7        23         6  20/02/2018 08:49:20             21   \n",
       "7948746  172.31.69.7      3039         6  20/02/2018 02:00:54         181954   \n",
       "7948747  172.31.69.7       445         6  20/02/2018 04:07:01         687378   \n",
       "\n",
       "         Tot Fwd Pkts  Tot Bwd Pkts  ...  Fwd Seg Size Min  Active Mean  \\\n",
       "7948743             2             1  ...                20          0.0   \n",
       "7948744             4             2  ...                20          0.0   \n",
       "7948745             1             1  ...                20          0.0   \n",
       "7948746             2             1  ...                20          0.0   \n",
       "7948747             2             2  ...                32          0.0   \n",
       "\n",
       "         Active Std  Active Max  Active Min  Idle Mean  Idle Std  Idle Max  \\\n",
       "7948743         0.0         0.0         0.0        0.0       0.0       0.0   \n",
       "7948744         0.0         0.0         0.0        0.0       0.0       0.0   \n",
       "7948745         0.0         0.0         0.0        0.0       0.0       0.0   \n",
       "7948746         0.0         0.0         0.0        0.0       0.0       0.0   \n",
       "7948747         0.0         0.0         0.0        0.0       0.0       0.0   \n",
       "\n",
       "         Idle Min   Label  \n",
       "7948743       0.0  Benign  \n",
       "7948744       0.0  Benign  \n",
       "7948745       0.0  Benign  \n",
       "7948746       0.0  Benign  \n",
       "7948747       0.0  Benign  \n",
       "\n",
       "[5 rows x 84 columns]"
      ]
     },
     "execution_count": 10,
     "metadata": {},
     "output_type": "execute_result"
    }
   ],
   "source": [
    "df.tail(5)"
   ]
  },
  {
   "cell_type": "code",
   "execution_count": 11,
   "metadata": {},
   "outputs": [
    {
     "data": {
      "text/plain": [
       "Benign                    7372557\n",
       "DDoS attacks-LOIC-HTTP     576191\n",
       "Name: Label, dtype: int64"
      ]
     },
     "execution_count": 11,
     "metadata": {},
     "output_type": "execute_result"
    }
   ],
   "source": [
    "df['Label'].value_counts()\n",
    "# Benign                    7372557\n",
    "# DDoS attacks-LOIC-HTTP     576191\n",
    "# Name: Label, dtype: int64"
   ]
  },
  {
   "cell_type": "code",
   "execution_count": 12,
   "metadata": {},
   "outputs": [],
   "source": [
    "#df20180222['Label'].value_counts()\n",
    "# Benign              1048213\n",
    "# Brute Force -Web        249\n",
    "# Brute Force -XSS         79\n",
    "# SQL Injection            34\n",
    "# Name: Label, dtype: int64"
   ]
  },
  {
   "cell_type": "code",
   "execution_count": 13,
   "metadata": {},
   "outputs": [],
   "source": [
    "# df20180301['Label'].value_counts()\n",
    "# Benign           238037\n",
    "# Infilteration     93063\n",
    "# Label                25\n",
    "# Name: Label, dtype: int64"
   ]
  },
  {
   "cell_type": "markdown",
   "metadata": {},
   "source": [
    "## Verify Data Quality"
   ]
  },
  {
   "cell_type": "markdown",
   "metadata": {},
   "source": [
    "Look out for the following:\n",
    "* Incorrect or unexpected data type & format (ALL)\n",
    "* Duplicates (ALL)\n",
    "* Unexpected dimensions (i.e. missing rows or columns) (ALL)\n",
    "* Incorrect Spelling (CAT)\n",
    "* Mixed cases for strings (CAT)\n",
    "* Unexpected outliers or anomalous values (NUM)\n",
    "* Inconsistent or incorrect units of measurement (NUM)"
   ]
  },
  {
   "cell_type": "code",
   "execution_count": 14,
   "metadata": {},
   "outputs": [
    {
     "data": {
      "text/plain": [
       "Flow ID       object\n",
       "Src IP        object\n",
       "Src Port       int64\n",
       "Dst IP        object\n",
       "Dst Port       int64\n",
       "              ...   \n",
       "Idle Mean    float64\n",
       "Idle Std     float64\n",
       "Idle Max     float64\n",
       "Idle Min     float64\n",
       "Label         object\n",
       "Length: 84, dtype: object"
      ]
     },
     "execution_count": 14,
     "metadata": {},
     "output_type": "execute_result"
    }
   ],
   "source": [
    "# Incorrect or unexpected data type & format (ALL)\n",
    "df.dtypes"
   ]
  },
  {
   "cell_type": "code",
   "execution_count": 15,
   "metadata": {},
   "outputs": [
    {
     "data": {
      "text/plain": [
       "False    7948746\n",
       "True           2\n",
       "dtype: int64"
      ]
     },
     "execution_count": 15,
     "metadata": {},
     "output_type": "execute_result"
    }
   ],
   "source": [
    "# Duplicates (ALL). \n",
    "# Checks for Duplicated Samples\n",
    "df.duplicated().value_counts()"
   ]
  },
  {
   "cell_type": "markdown",
   "metadata": {},
   "source": [
    "## Data Preparation"
   ]
  },
  {
   "cell_type": "markdown",
   "metadata": {},
   "source": [
    "### Removing Null Rows"
   ]
  },
  {
   "cell_type": "code",
   "execution_count": 16,
   "metadata": {},
   "outputs": [
    {
     "data": {
      "text/plain": [
       "['Flow Byts/s']"
      ]
     },
     "execution_count": 16,
     "metadata": {},
     "output_type": "execute_result"
    }
   ],
   "source": [
    "df.columns[df.isna().any()].tolist()"
   ]
  },
  {
   "cell_type": "code",
   "execution_count": 17,
   "metadata": {},
   "outputs": [
    {
     "data": {
      "text/plain": [
       "(36767, 84)"
      ]
     },
     "execution_count": 17,
     "metadata": {},
     "output_type": "execute_result"
    }
   ],
   "source": [
    "df_nulls = df[df.isna().any(axis=1)]\n",
    "df_nulls.shape"
   ]
  },
  {
   "cell_type": "code",
   "execution_count": 18,
   "metadata": {},
   "outputs": [
    {
     "data": {
      "text/plain": [
       "Benign    36767\n",
       "Name: Label, dtype: int64"
      ]
     },
     "execution_count": 18,
     "metadata": {},
     "output_type": "execute_result"
    }
   ],
   "source": [
    "# all the row with null values\n",
    "df_nulls['Label'].value_counts() "
   ]
  },
  {
   "cell_type": "code",
   "execution_count": 19,
   "metadata": {},
   "outputs": [
    {
     "data": {
      "text/plain": [
       "(7911981, 84)"
      ]
     },
     "execution_count": 19,
     "metadata": {},
     "output_type": "execute_result"
    }
   ],
   "source": [
    "# remove null rows \n",
    "df_nonulls = df.dropna()\n",
    "\n",
    "# remove headers\n",
    "df_nonulls.drop(df_nonulls[df_nonulls['Label'] == 'Label'].index, inplace=True)\n",
    "\n",
    "df_nonulls.shape"
   ]
  },
  {
   "cell_type": "code",
   "execution_count": 20,
   "metadata": {},
   "outputs": [
    {
     "data": {
      "text/html": [
       "<div>\n",
       "<style scoped>\n",
       "    .dataframe tbody tr th:only-of-type {\n",
       "        vertical-align: middle;\n",
       "    }\n",
       "\n",
       "    .dataframe tbody tr th {\n",
       "        vertical-align: top;\n",
       "    }\n",
       "\n",
       "    .dataframe thead th {\n",
       "        text-align: right;\n",
       "    }\n",
       "</style>\n",
       "<table border=\"1\" class=\"dataframe\">\n",
       "  <thead>\n",
       "    <tr style=\"text-align: right;\">\n",
       "      <th></th>\n",
       "      <th>Flow ID</th>\n",
       "      <th>Src IP</th>\n",
       "      <th>Src Port</th>\n",
       "      <th>Dst IP</th>\n",
       "      <th>Dst Port</th>\n",
       "      <th>Protocol</th>\n",
       "      <th>Timestamp</th>\n",
       "      <th>Flow Duration</th>\n",
       "      <th>Tot Fwd Pkts</th>\n",
       "      <th>Tot Bwd Pkts</th>\n",
       "      <th>...</th>\n",
       "      <th>Fwd Seg Size Min</th>\n",
       "      <th>Active Mean</th>\n",
       "      <th>Active Std</th>\n",
       "      <th>Active Max</th>\n",
       "      <th>Active Min</th>\n",
       "      <th>Idle Mean</th>\n",
       "      <th>Idle Std</th>\n",
       "      <th>Idle Max</th>\n",
       "      <th>Idle Min</th>\n",
       "      <th>Label</th>\n",
       "    </tr>\n",
       "  </thead>\n",
       "  <tbody>\n",
       "  </tbody>\n",
       "</table>\n",
       "<p>0 rows × 84 columns</p>\n",
       "</div>"
      ],
      "text/plain": [
       "Empty DataFrame\n",
       "Columns: [Flow ID, Src IP, Src Port, Dst IP, Dst Port, Protocol, Timestamp, Flow Duration, Tot Fwd Pkts, Tot Bwd Pkts, TotLen Fwd Pkts, TotLen Bwd Pkts, Fwd Pkt Len Max, Fwd Pkt Len Min, Fwd Pkt Len Mean, Fwd Pkt Len Std, Bwd Pkt Len Max, Bwd Pkt Len Min, Bwd Pkt Len Mean, Bwd Pkt Len Std, Flow Byts/s, Flow Pkts/s, Flow IAT Mean, Flow IAT Std, Flow IAT Max, Flow IAT Min, Fwd IAT Tot, Fwd IAT Mean, Fwd IAT Std, Fwd IAT Max, Fwd IAT Min, Bwd IAT Tot, Bwd IAT Mean, Bwd IAT Std, Bwd IAT Max, Bwd IAT Min, Fwd PSH Flags, Bwd PSH Flags, Fwd URG Flags, Bwd URG Flags, Fwd Header Len, Bwd Header Len, Fwd Pkts/s, Bwd Pkts/s, Pkt Len Min, Pkt Len Max, Pkt Len Mean, Pkt Len Std, Pkt Len Var, FIN Flag Cnt, SYN Flag Cnt, RST Flag Cnt, PSH Flag Cnt, ACK Flag Cnt, URG Flag Cnt, CWE Flag Count, ECE Flag Cnt, Down/Up Ratio, Pkt Size Avg, Fwd Seg Size Avg, Bwd Seg Size Avg, Fwd Byts/b Avg, Fwd Pkts/b Avg, Fwd Blk Rate Avg, Bwd Byts/b Avg, Bwd Pkts/b Avg, Bwd Blk Rate Avg, Subflow Fwd Pkts, Subflow Fwd Byts, Subflow Bwd Pkts, Subflow Bwd Byts, Init Fwd Win Byts, Init Bwd Win Byts, Fwd Act Data Pkts, Fwd Seg Size Min, Active Mean, Active Std, Active Max, Active Min, Idle Mean, Idle Std, Idle Max, Idle Min, Label]\n",
       "Index: []\n",
       "\n",
       "[0 rows x 84 columns]"
      ]
     },
     "execution_count": 20,
     "metadata": {},
     "output_type": "execute_result"
    }
   ],
   "source": [
    "df_nonulls[df_nonulls.isna().any(axis=1)]\n",
    "# should be empty now"
   ]
  },
  {
   "cell_type": "markdown",
   "metadata": {},
   "source": [
    "## Convert the Objects to Numerical"
   ]
  },
  {
   "cell_type": "markdown",
   "metadata": {},
   "source": [
    "### Convert Label from Categorical to Numerical\n",
    "* Benign - 0\n",
    "* Non-Benign - 1"
   ]
  },
  {
   "cell_type": "code",
   "execution_count": 24,
   "metadata": {},
   "outputs": [],
   "source": [
    "# Convert All Benign to 0 and all others (Non-Benign) to 1\n",
    "df_nonulls.Label[df.Label == 'Benign'] = 0\n",
    "df_nonulls.Label[df.Label != 'Benign'] = 1\n",
    "df_nonulls['Label'] = df_nonulls['Label'].astype(int)"
   ]
  },
  {
   "cell_type": "code",
   "execution_count": 25,
   "metadata": {},
   "outputs": [
    {
     "data": {
      "text/plain": [
       "array([0, 1])"
      ]
     },
     "execution_count": 25,
     "metadata": {},
     "output_type": "execute_result"
    }
   ],
   "source": [
    "df_nonulls.Label.unique()"
   ]
  },
  {
   "cell_type": "markdown",
   "metadata": {},
   "source": [
    "### Convert Timestamp from Object to DateTime"
   ]
  },
  {
   "cell_type": "code",
   "execution_count": 26,
   "metadata": {},
   "outputs": [],
   "source": [
    "# Keep this for now as place holder for future \n",
    "df_nonulls['Timestamp'] = pd.to_datetime(df_nonulls['Timestamp'], infer_datetime_format=True)\n",
    "# df_nonulls['Timestamp'].dt.hour.unique()\n",
    "# df_nonulls['Timestamp'].dt.minute.unique()"
   ]
  },
  {
   "cell_type": "markdown",
   "metadata": {},
   "source": [
    "### Drop Timestamp from DataFrame"
   ]
  },
  {
   "cell_type": "code",
   "execution_count": 27,
   "metadata": {},
   "outputs": [],
   "source": [
    "# A bit unnecessary to convert to timestamp before changing it, but keeping as reminder\n",
    "df_nonulls.drop('Timestamp', axis=1, inplace=True)"
   ]
  },
  {
   "cell_type": "markdown",
   "metadata": {},
   "source": [
    "### Convert 'Flow Byts/s' & 'Flow Pkts/s'  from Object to Float"
   ]
  },
  {
   "cell_type": "code",
   "execution_count": 28,
   "metadata": {},
   "outputs": [],
   "source": [
    "df_nonulls['Flow Byts/s'] = df_nonulls['Flow Byts/s'].astype(float)\n",
    "df_nonulls['Flow Pkts/s'] = df_nonulls['Flow Pkts/s'].astype(float)"
   ]
  },
  {
   "cell_type": "markdown",
   "metadata": {},
   "source": [
    "### Keep only finite values to avoid INF or NaN in Describe"
   ]
  },
  {
   "cell_type": "code",
   "execution_count": 29,
   "metadata": {},
   "outputs": [],
   "source": [
    "# Identifying rows with only finite values (two different ways)\n",
    "#df_subset = df_nonulls[np.isfinite(df_nonulls).all(1)]\n",
    "df_subset = df_nonulls[~df_nonulls.isin([np.nan, np.inf, -np.inf]).any(1)]"
   ]
  },
  {
   "cell_type": "code",
   "execution_count": 30,
   "metadata": {},
   "outputs": [
    {
     "name": "stdout",
     "output_type": "stream",
     "text": [
      "(7911981, 83) (7889295, 83)\n"
     ]
    }
   ],
   "source": [
    "print(df_nonulls.shape, df_subset.shape)"
   ]
  },
  {
   "cell_type": "code",
   "execution_count": 31,
   "metadata": {},
   "outputs": [],
   "source": [
    "# Identifying the rows that cause issues later down the line\n",
    "# This is a resource intensive operation as you merge the two sets\n",
    "# May want to skip this to avoid processing time\n",
    "# df_diff = pd.merge(df_nonulls, df_subset, how='outer', indicator='Exist')\n",
    "# df_diff = df_diff.loc[df_diff['Exist'] != 'both']\n",
    "# df_diff.describe()"
   ]
  },
  {
   "cell_type": "code",
   "execution_count": 32,
   "metadata": {},
   "outputs": [],
   "source": [
    "# df_nonulls.shape, df_subset.shape, df_diff.shape"
   ]
  },
  {
   "cell_type": "code",
   "execution_count": 33,
   "metadata": {},
   "outputs": [],
   "source": [
    "# This is a problem column, possibly caused by conversion from Object to Float\n",
    "# df_diff['Flow Byts/s'].describe()"
   ]
  },
  {
   "cell_type": "code",
   "execution_count": 34,
   "metadata": {},
   "outputs": [],
   "source": [
    "# This is another problem column, possibly caused by conversion from Object to Float\n",
    "# df_diff['Flow Pkts/s'].describe()"
   ]
  },
  {
   "cell_type": "code",
   "execution_count": 35,
   "metadata": {},
   "outputs": [],
   "source": [
    "df_nonulls = df_subset"
   ]
  },
  {
   "cell_type": "markdown",
   "metadata": {},
   "source": [
    "### Re-Check DataFrame Objects\n"
   ]
  },
  {
   "cell_type": "code",
   "execution_count": 36,
   "metadata": {},
   "outputs": [
    {
     "name": "stdout",
     "output_type": "stream",
     "text": [
      "<class 'pandas.core.frame.DataFrame'>\n",
      "Int64Index: 7889295 entries, 0 to 7948747\n",
      "Data columns (total 83 columns):\n",
      "Flow ID              object\n",
      "Src IP               object\n",
      "Src Port             int64\n",
      "Dst IP               object\n",
      "Dst Port             int64\n",
      "Protocol             int64\n",
      "Flow Duration        int64\n",
      "Tot Fwd Pkts         int64\n",
      "Tot Bwd Pkts         int64\n",
      "TotLen Fwd Pkts      float64\n",
      "TotLen Bwd Pkts      float64\n",
      "Fwd Pkt Len Max      float64\n",
      "Fwd Pkt Len Min      float64\n",
      "Fwd Pkt Len Mean     float64\n",
      "Fwd Pkt Len Std      float64\n",
      "Bwd Pkt Len Max      float64\n",
      "Bwd Pkt Len Min      float64\n",
      "Bwd Pkt Len Mean     float64\n",
      "Bwd Pkt Len Std      float64\n",
      "Flow Byts/s          float64\n",
      "Flow Pkts/s          float64\n",
      "Flow IAT Mean        float64\n",
      "Flow IAT Std         float64\n",
      "Flow IAT Max         float64\n",
      "Flow IAT Min         float64\n",
      "Fwd IAT Tot          float64\n",
      "Fwd IAT Mean         float64\n",
      "Fwd IAT Std          float64\n",
      "Fwd IAT Max          float64\n",
      "Fwd IAT Min          float64\n",
      "Bwd IAT Tot          float64\n",
      "Bwd IAT Mean         float64\n",
      "Bwd IAT Std          float64\n",
      "Bwd IAT Max          float64\n",
      "Bwd IAT Min          float64\n",
      "Fwd PSH Flags        int64\n",
      "Bwd PSH Flags        int64\n",
      "Fwd URG Flags        int64\n",
      "Bwd URG Flags        int64\n",
      "Fwd Header Len       int64\n",
      "Bwd Header Len       int64\n",
      "Fwd Pkts/s           float64\n",
      "Bwd Pkts/s           float64\n",
      "Pkt Len Min          float64\n",
      "Pkt Len Max          float64\n",
      "Pkt Len Mean         float64\n",
      "Pkt Len Std          float64\n",
      "Pkt Len Var          float64\n",
      "FIN Flag Cnt         int64\n",
      "SYN Flag Cnt         int64\n",
      "RST Flag Cnt         int64\n",
      "PSH Flag Cnt         int64\n",
      "ACK Flag Cnt         int64\n",
      "URG Flag Cnt         int64\n",
      "CWE Flag Count       int64\n",
      "ECE Flag Cnt         int64\n",
      "Down/Up Ratio        float64\n",
      "Pkt Size Avg         float64\n",
      "Fwd Seg Size Avg     float64\n",
      "Bwd Seg Size Avg     float64\n",
      "Fwd Byts/b Avg       int64\n",
      "Fwd Pkts/b Avg       int64\n",
      "Fwd Blk Rate Avg     int64\n",
      "Bwd Byts/b Avg       int64\n",
      "Bwd Pkts/b Avg       int64\n",
      "Bwd Blk Rate Avg     int64\n",
      "Subflow Fwd Pkts     int64\n",
      "Subflow Fwd Byts     int64\n",
      "Subflow Bwd Pkts     int64\n",
      "Subflow Bwd Byts     int64\n",
      "Init Fwd Win Byts    int64\n",
      "Init Bwd Win Byts    int64\n",
      "Fwd Act Data Pkts    int64\n",
      "Fwd Seg Size Min     int64\n",
      "Active Mean          float64\n",
      "Active Std           float64\n",
      "Active Max           float64\n",
      "Active Min           float64\n",
      "Idle Mean            float64\n",
      "Idle Std             float64\n",
      "Idle Max             float64\n",
      "Idle Min             float64\n",
      "Label                int64\n",
      "dtypes: float64(45), int64(35), object(3)\n",
      "memory usage: 4.9+ GB\n"
     ]
    }
   ],
   "source": [
    "#Check the features\n",
    "df_nonulls.info()"
   ]
  },
  {
   "cell_type": "code",
   "execution_count": null,
   "metadata": {},
   "outputs": [],
   "source": [
    "df_nonulls.shape"
   ]
  },
  {
   "cell_type": "markdown",
   "metadata": {},
   "source": [
    "### Check Label Balance"
   ]
  },
  {
   "cell_type": "markdown",
   "metadata": {},
   "source": [
    "<i>Hint: Since we'll be using GridSearchCV, no need to further split into train and test set. Only split into predictor and target variables</i>"
   ]
  },
  {
   "cell_type": "code",
   "execution_count": 37,
   "metadata": {},
   "outputs": [
    {
     "data": {
      "text/plain": [
       "<matplotlib.axes._subplots.AxesSubplot at 0x27d2fa650>"
      ]
     },
     "execution_count": 37,
     "metadata": {},
     "output_type": "execute_result"
    },
    {
     "data": {
      "image/png": "[encoded data removed]",
      "text/plain": [
       "<Figure size 432x288 with 1 Axes>"
      ]
     },
     "metadata": {},
     "output_type": "display_data"
    }
   ],
   "source": [
    "#Target variable is \"Label\"\n",
    "X = df_nonulls.drop(\"Label\", axis=1)\n",
    "y = df_nonulls.Label\n",
    "\n",
    "sns.set(font_scale=1)\n",
    "sns.countplot(y)\n",
    "# Benign\n",
    "# DoS attacks-GoldenEye\n",
    "# DoS attacks-Slowloris"
   ]
  },
  {
   "cell_type": "code",
   "execution_count": null,
   "metadata": {},
   "outputs": [],
   "source": [
    "# Subset of Features\n",
    "# df_subset = df_nonulls[['URG Flag Cnt','SYN Flag Cnt','RST Flag Cnt','PSH Flag Cnt','Protocol',\n",
    "#         'Pkt Size Avg','Flow Pkts/s','FIN Flag Cnt','ECE Flag Cnt','ACK Flag Cnt','Dst Port','Label']]\n",
    "# df_subset.info(verbose=True)"
   ]
  },
  {
   "cell_type": "code",
   "execution_count": 38,
   "metadata": {},
   "outputs": [
    {
     "name": "stdout",
     "output_type": "stream",
     "text": [
      "(7889295, 82) (7889295,)\n"
     ]
    }
   ],
   "source": [
    "print(X.shape,y.shape)"
   ]
  },
  {
   "cell_type": "code",
   "execution_count": null,
   "metadata": {},
   "outputs": [],
   "source": [
    "df_nonulls.to_csv(\"../../../Downloads/CSC IDS 2018/Processed-Tuesday-20-02-2018_TrafficForML_CICFlowMeter.csv\")"
   ]
  },
  {
   "cell_type": "code",
   "execution_count": 3,
   "metadata": {},
   "outputs": [],
   "source": [
    "#provide the path of the dataset\n",
    "df_prepped = pd.read_csv(\"../../../Downloads/CSC IDS 2018/Processed-Tuesday-20-02-2018_TrafficForML_CICFlowMeter.csv\")\n",
    "\n",
    "\n"
   ]
  },
  {
   "cell_type": "code",
   "execution_count": 4,
   "metadata": {},
   "outputs": [
    {
     "data": {
      "text/plain": [
       "(7889295, 84)"
      ]
     },
     "execution_count": 4,
     "metadata": {},
     "output_type": "execute_result"
    }
   ],
   "source": [
    "df_prepped.shape"
   ]
  },
  {
   "cell_type": "code",
   "execution_count": 5,
   "metadata": {},
   "outputs": [
    {
     "data": {
      "text/plain": [
       "<bound method NDFrame.describe of          Unnamed: 0                                 Flow ID          Src IP  \\\n",
       "0                 0  172.31.69.25-94.231.103.172-22-45498-6  94.231.103.172   \n",
       "1                 1                   8.0.6.4-8.6.0.1-0-0-0         8.6.0.1   \n",
       "2                 2                   8.0.6.4-8.6.0.1-0-0-0         8.6.0.1   \n",
       "3                 3                   8.0.6.4-8.6.0.1-0-0-0         8.6.0.1   \n",
       "4                 4                   8.0.6.4-8.6.0.1-0-0-0         8.6.0.1   \n",
       "...             ...                                     ...             ...   \n",
       "7889290     7948743    172.31.69.7-185.2.197.19-623-42801-6    185.2.197.19   \n",
       "7889291     7948744     172.31.69.7-195.22.125.42-22-2178-6   195.22.125.42   \n",
       "7889292     7948745     172.31.69.7-107.3.188.61-23-14259-6    107.3.188.61   \n",
       "7889293     7948746   172.31.69.7-5.188.11.188-3039-54193-6    5.188.11.188   \n",
       "7889294     7948747   172.31.69.7-188.19.76.194-445-57958-6   188.19.76.194   \n",
       "\n",
       "         Src Port        Dst IP  Dst Port  Protocol  Flow Duration  \\\n",
       "0           45498  172.31.69.25        22         6         888751   \n",
       "1               0       8.0.6.4         0         0      112642816   \n",
       "2               0       8.0.6.4         0         0      112642712   \n",
       "3               0       8.0.6.4         0         0      112642648   \n",
       "4               0       8.0.6.4         0         0      112642702   \n",
       "...           ...           ...       ...       ...            ...   \n",
       "7889290     42801   172.31.69.7       623         6          94042   \n",
       "7889291      2178   172.31.69.7        22         6         251281   \n",
       "7889292     14259   172.31.69.7        23         6             21   \n",
       "7889293     54193   172.31.69.7      3039         6         181954   \n",
       "7889294     57958   172.31.69.7       445         6         687378   \n",
       "\n",
       "         Tot Fwd Pkts  Tot Bwd Pkts  ...  Fwd Seg Size Min  Active Mean  \\\n",
       "0                  11            11  ...                32          0.0   \n",
       "1                   3             0  ...                 0          0.0   \n",
       "2                   3             0  ...                 0          0.0   \n",
       "3                   3             0  ...                 0          0.0   \n",
       "4                   3             0  ...                 0          0.0   \n",
       "...               ...           ...  ...               ...          ...   \n",
       "7889290             2             1  ...                20          0.0   \n",
       "7889291             4             2  ...                20          0.0   \n",
       "7889292             1             1  ...                20          0.0   \n",
       "7889293             2             1  ...                20          0.0   \n",
       "7889294             2             2  ...                32          0.0   \n",
       "\n",
       "         Active Std  Active Max  Active Min   Idle Mean   Idle Std  \\\n",
       "0               0.0         0.0         0.0         0.0   0.000000   \n",
       "1               0.0         0.0         0.0  56300000.0   7.071068   \n",
       "2               0.0         0.0         0.0  56300000.0  18.384776   \n",
       "3               0.0         0.0         0.0  56300000.0   5.656854   \n",
       "4               0.0         0.0         0.0  56300000.0  65.053824   \n",
       "...             ...         ...         ...         ...        ...   \n",
       "7889290         0.0         0.0         0.0         0.0   0.000000   \n",
       "7889291         0.0         0.0         0.0         0.0   0.000000   \n",
       "7889292         0.0         0.0         0.0         0.0   0.000000   \n",
       "7889293         0.0         0.0         0.0         0.0   0.000000   \n",
       "7889294         0.0         0.0         0.0         0.0   0.000000   \n",
       "\n",
       "           Idle Max    Idle Min  Label  \n",
       "0               0.0         0.0      0  \n",
       "1        56300000.0  56300000.0      0  \n",
       "2        56300000.0  56300000.0      0  \n",
       "3        56300000.0  56300000.0      0  \n",
       "4        56300000.0  56300000.0      0  \n",
       "...             ...         ...    ...  \n",
       "7889290         0.0         0.0      0  \n",
       "7889291         0.0         0.0      0  \n",
       "7889292         0.0         0.0      0  \n",
       "7889293         0.0         0.0      0  \n",
       "7889294         0.0         0.0      0  \n",
       "\n",
       "[7889295 rows x 84 columns]>"
      ]
     },
     "execution_count": 5,
     "metadata": {},
     "output_type": "execute_result"
    }
   ],
   "source": [
    "df_prepped.describe"
   ]
  },
  {
   "cell_type": "code",
   "execution_count": 7,
   "metadata": {},
   "outputs": [
    {
     "name": "stdout",
     "output_type": "stream",
     "text": [
      "<class 'pandas.core.frame.DataFrame'>\n",
      "RangeIndex: 7889295 entries, 0 to 7889294\n",
      "Data columns (total 84 columns):\n",
      "Unnamed: 0           int64\n",
      "Flow ID              object\n",
      "Src IP               object\n",
      "Src Port             int64\n",
      "Dst IP               object\n",
      "Dst Port             int64\n",
      "Protocol             int64\n",
      "Flow Duration        int64\n",
      "Tot Fwd Pkts         int64\n",
      "Tot Bwd Pkts         int64\n",
      "TotLen Fwd Pkts      float64\n",
      "TotLen Bwd Pkts      float64\n",
      "Fwd Pkt Len Max      float64\n",
      "Fwd Pkt Len Min      float64\n",
      "Fwd Pkt Len Mean     float64\n",
      "Fwd Pkt Len Std      float64\n",
      "Bwd Pkt Len Max      float64\n",
      "Bwd Pkt Len Min      float64\n",
      "Bwd Pkt Len Mean     float64\n",
      "Bwd Pkt Len Std      float64\n",
      "Flow Byts/s          float64\n",
      "Flow Pkts/s          float64\n",
      "Flow IAT Mean        float64\n",
      "Flow IAT Std         float64\n",
      "Flow IAT Max         float64\n",
      "Flow IAT Min         float64\n",
      "Fwd IAT Tot          float64\n",
      "Fwd IAT Mean         float64\n",
      "Fwd IAT Std          float64\n",
      "Fwd IAT Max          float64\n",
      "Fwd IAT Min          float64\n",
      "Bwd IAT Tot          float64\n",
      "Bwd IAT Mean         float64\n",
      "Bwd IAT Std          float64\n",
      "Bwd IAT Max          float64\n",
      "Bwd IAT Min          float64\n",
      "Fwd PSH Flags        int64\n",
      "Bwd PSH Flags        int64\n",
      "Fwd URG Flags        int64\n",
      "Bwd URG Flags        int64\n",
      "Fwd Header Len       int64\n",
      "Bwd Header Len       int64\n",
      "Fwd Pkts/s           float64\n",
      "Bwd Pkts/s           float64\n",
      "Pkt Len Min          float64\n",
      "Pkt Len Max          float64\n",
      "Pkt Len Mean         float64\n",
      "Pkt Len Std          float64\n",
      "Pkt Len Var          float64\n",
      "FIN Flag Cnt         int64\n",
      "SYN Flag Cnt         int64\n",
      "RST Flag Cnt         int64\n",
      "PSH Flag Cnt         int64\n",
      "ACK Flag Cnt         int64\n",
      "URG Flag Cnt         int64\n",
      "CWE Flag Count       int64\n",
      "ECE Flag Cnt         int64\n",
      "Down/Up Ratio        float64\n",
      "Pkt Size Avg         float64\n",
      "Fwd Seg Size Avg     float64\n",
      "Bwd Seg Size Avg     float64\n",
      "Fwd Byts/b Avg       int64\n",
      "Fwd Pkts/b Avg       int64\n",
      "Fwd Blk Rate Avg     int64\n",
      "Bwd Byts/b Avg       int64\n",
      "Bwd Pkts/b Avg       int64\n",
      "Bwd Blk Rate Avg     int64\n",
      "Subflow Fwd Pkts     int64\n",
      "Subflow Fwd Byts     int64\n",
      "Subflow Bwd Pkts     int64\n",
      "Subflow Bwd Byts     int64\n",
      "Init Fwd Win Byts    int64\n",
      "Init Bwd Win Byts    int64\n",
      "Fwd Act Data Pkts    int64\n",
      "Fwd Seg Size Min     int64\n",
      "Active Mean          float64\n",
      "Active Std           float64\n",
      "Active Max           float64\n",
      "Active Min           float64\n",
      "Idle Mean            float64\n",
      "Idle Std             float64\n",
      "Idle Max             float64\n",
      "Idle Min             float64\n",
      "Label                int64\n",
      "dtypes: float64(45), int64(36), object(3)\n",
      "memory usage: 4.9+ GB\n"
     ]
    }
   ],
   "source": [
    "df_prepped.info()"
   ]
  },
  {
   "cell_type": "code",
   "execution_count": 8,
   "metadata": {},
   "outputs": [
    {
     "data": {
      "text/html": [
       "<div>\n",
       "<style scoped>\n",
       "    .dataframe tbody tr th:only-of-type {\n",
       "        vertical-align: middle;\n",
       "    }\n",
       "\n",
       "    .dataframe tbody tr th {\n",
       "        vertical-align: top;\n",
       "    }\n",
       "\n",
       "    .dataframe thead th {\n",
       "        text-align: right;\n",
       "    }\n",
       "</style>\n",
       "<table border=\"1\" class=\"dataframe\">\n",
       "  <thead>\n",
       "    <tr style=\"text-align: right;\">\n",
       "      <th></th>\n",
       "      <th>Unnamed: 0</th>\n",
       "      <th>Flow ID</th>\n",
       "      <th>Src IP</th>\n",
       "      <th>Src Port</th>\n",
       "      <th>Dst IP</th>\n",
       "      <th>Dst Port</th>\n",
       "      <th>Protocol</th>\n",
       "      <th>Flow Duration</th>\n",
       "      <th>Tot Fwd Pkts</th>\n",
       "      <th>Tot Bwd Pkts</th>\n",
       "      <th>...</th>\n",
       "      <th>Fwd Seg Size Min</th>\n",
       "      <th>Active Mean</th>\n",
       "      <th>Active Std</th>\n",
       "      <th>Active Max</th>\n",
       "      <th>Active Min</th>\n",
       "      <th>Idle Mean</th>\n",
       "      <th>Idle Std</th>\n",
       "      <th>Idle Max</th>\n",
       "      <th>Idle Min</th>\n",
       "      <th>Label</th>\n",
       "    </tr>\n",
       "  </thead>\n",
       "  <tbody>\n",
       "    <tr>\n",
       "      <td>0</td>\n",
       "      <td>0</td>\n",
       "      <td>172.31.69.25-94.231.103.172-22-45498-6</td>\n",
       "      <td>94.231.103.172</td>\n",
       "      <td>45498</td>\n",
       "      <td>172.31.69.25</td>\n",
       "      <td>22</td>\n",
       "      <td>6</td>\n",
       "      <td>888751</td>\n",
       "      <td>11</td>\n",
       "      <td>11</td>\n",
       "      <td>...</td>\n",
       "      <td>32</td>\n",
       "      <td>0.0</td>\n",
       "      <td>0.0</td>\n",
       "      <td>0.0</td>\n",
       "      <td>0.0</td>\n",
       "      <td>0.0</td>\n",
       "      <td>0.000000</td>\n",
       "      <td>0.0</td>\n",
       "      <td>0.0</td>\n",
       "      <td>0</td>\n",
       "    </tr>\n",
       "    <tr>\n",
       "      <td>1</td>\n",
       "      <td>1</td>\n",
       "      <td>8.0.6.4-8.6.0.1-0-0-0</td>\n",
       "      <td>8.6.0.1</td>\n",
       "      <td>0</td>\n",
       "      <td>8.0.6.4</td>\n",
       "      <td>0</td>\n",
       "      <td>0</td>\n",
       "      <td>112642816</td>\n",
       "      <td>3</td>\n",
       "      <td>0</td>\n",
       "      <td>...</td>\n",
       "      <td>0</td>\n",
       "      <td>0.0</td>\n",
       "      <td>0.0</td>\n",
       "      <td>0.0</td>\n",
       "      <td>0.0</td>\n",
       "      <td>56300000.0</td>\n",
       "      <td>7.071068</td>\n",
       "      <td>56300000.0</td>\n",
       "      <td>56300000.0</td>\n",
       "      <td>0</td>\n",
       "    </tr>\n",
       "    <tr>\n",
       "      <td>2</td>\n",
       "      <td>2</td>\n",
       "      <td>8.0.6.4-8.6.0.1-0-0-0</td>\n",
       "      <td>8.6.0.1</td>\n",
       "      <td>0</td>\n",
       "      <td>8.0.6.4</td>\n",
       "      <td>0</td>\n",
       "      <td>0</td>\n",
       "      <td>112642712</td>\n",
       "      <td>3</td>\n",
       "      <td>0</td>\n",
       "      <td>...</td>\n",
       "      <td>0</td>\n",
       "      <td>0.0</td>\n",
       "      <td>0.0</td>\n",
       "      <td>0.0</td>\n",
       "      <td>0.0</td>\n",
       "      <td>56300000.0</td>\n",
       "      <td>18.384776</td>\n",
       "      <td>56300000.0</td>\n",
       "      <td>56300000.0</td>\n",
       "      <td>0</td>\n",
       "    </tr>\n",
       "    <tr>\n",
       "      <td>3</td>\n",
       "      <td>3</td>\n",
       "      <td>8.0.6.4-8.6.0.1-0-0-0</td>\n",
       "      <td>8.6.0.1</td>\n",
       "      <td>0</td>\n",
       "      <td>8.0.6.4</td>\n",
       "      <td>0</td>\n",
       "      <td>0</td>\n",
       "      <td>112642648</td>\n",
       "      <td>3</td>\n",
       "      <td>0</td>\n",
       "      <td>...</td>\n",
       "      <td>0</td>\n",
       "      <td>0.0</td>\n",
       "      <td>0.0</td>\n",
       "      <td>0.0</td>\n",
       "      <td>0.0</td>\n",
       "      <td>56300000.0</td>\n",
       "      <td>5.656854</td>\n",
       "      <td>56300000.0</td>\n",
       "      <td>56300000.0</td>\n",
       "      <td>0</td>\n",
       "    </tr>\n",
       "    <tr>\n",
       "      <td>4</td>\n",
       "      <td>4</td>\n",
       "      <td>8.0.6.4-8.6.0.1-0-0-0</td>\n",
       "      <td>8.6.0.1</td>\n",
       "      <td>0</td>\n",
       "      <td>8.0.6.4</td>\n",
       "      <td>0</td>\n",
       "      <td>0</td>\n",
       "      <td>112642702</td>\n",
       "      <td>3</td>\n",
       "      <td>0</td>\n",
       "      <td>...</td>\n",
       "      <td>0</td>\n",
       "      <td>0.0</td>\n",
       "      <td>0.0</td>\n",
       "      <td>0.0</td>\n",
       "      <td>0.0</td>\n",
       "      <td>56300000.0</td>\n",
       "      <td>65.053824</td>\n",
       "      <td>56300000.0</td>\n",
       "      <td>56300000.0</td>\n",
       "      <td>0</td>\n",
       "    </tr>\n",
       "  </tbody>\n",
       "</table>\n",
       "<p>5 rows × 84 columns</p>\n",
       "</div>"
      ],
      "text/plain": [
       "   Unnamed: 0                                 Flow ID          Src IP  \\\n",
       "0           0  172.31.69.25-94.231.103.172-22-45498-6  94.231.103.172   \n",
       "1           1                   8.0.6.4-8.6.0.1-0-0-0         8.6.0.1   \n",
       "2           2                   8.0.6.4-8.6.0.1-0-0-0         8.6.0.1   \n",
       "3           3                   8.0.6.4-8.6.0.1-0-0-0         8.6.0.1   \n",
       "4           4                   8.0.6.4-8.6.0.1-0-0-0         8.6.0.1   \n",
       "\n",
       "   Src Port        Dst IP  Dst Port  Protocol  Flow Duration  Tot Fwd Pkts  \\\n",
       "0     45498  172.31.69.25        22         6         888751            11   \n",
       "1         0       8.0.6.4         0         0      112642816             3   \n",
       "2         0       8.0.6.4         0         0      112642712             3   \n",
       "3         0       8.0.6.4         0         0      112642648             3   \n",
       "4         0       8.0.6.4         0         0      112642702             3   \n",
       "\n",
       "   Tot Bwd Pkts  ...  Fwd Seg Size Min  Active Mean  Active Std  Active Max  \\\n",
       "0            11  ...                32          0.0         0.0         0.0   \n",
       "1             0  ...                 0          0.0         0.0         0.0   \n",
       "2             0  ...                 0          0.0         0.0         0.0   \n",
       "3             0  ...                 0          0.0         0.0         0.0   \n",
       "4             0  ...                 0          0.0         0.0         0.0   \n",
       "\n",
       "   Active Min   Idle Mean   Idle Std    Idle Max    Idle Min  Label  \n",
       "0         0.0         0.0   0.000000         0.0         0.0      0  \n",
       "1         0.0  56300000.0   7.071068  56300000.0  56300000.0      0  \n",
       "2         0.0  56300000.0  18.384776  56300000.0  56300000.0      0  \n",
       "3         0.0  56300000.0   5.656854  56300000.0  56300000.0      0  \n",
       "4         0.0  56300000.0  65.053824  56300000.0  56300000.0      0  \n",
       "\n",
       "[5 rows x 84 columns]"
      ]
     },
     "execution_count": 8,
     "metadata": {},
     "output_type": "execute_result"
    }
   ],
   "source": [
    "df_prepped.head()"
   ]
  },
  {
   "cell_type": "markdown",
   "metadata": {},
   "source": [
    "### Build Training Set using SMOTE"
   ]
  },
  {
   "cell_type": "code",
   "execution_count": 13,
   "metadata": {},
   "outputs": [],
   "source": [
    "df_prepped.drop('Unnamed: 0', axis=1, inplace=True)\n",
    "df_prepped.drop('Flow ID', axis=1, inplace=True)\n",
    "df_prepped.drop('Src IP', axis=1, inplace=True)\n",
    "df_prepped.drop('Src Port', axis=1, inplace=True)\n",
    "df_prepped.drop('Dst IP', axis=1, inplace=True)"
   ]
  },
  {
   "cell_type": "code",
   "execution_count": 14,
   "metadata": {},
   "outputs": [
    {
     "data": {
      "text/plain": [
       "(7889295, 79)"
      ]
     },
     "execution_count": 14,
     "metadata": {},
     "output_type": "execute_result"
    }
   ],
   "source": [
    "df_prepped.shape"
   ]
  },
  {
   "cell_type": "code",
   "execution_count": 15,
   "metadata": {},
   "outputs": [
    {
     "data": {
      "text/plain": [
       "<matplotlib.axes._subplots.AxesSubplot at 0x152cfe610>"
      ]
     },
     "execution_count": 15,
     "metadata": {},
     "output_type": "execute_result"
    },
    {
     "data": {
      "image/png": "[encoded data removed]",
      "text/plain": [
       "<Figure size 432x288 with 1 Axes>"
      ]
     },
     "metadata": {},
     "output_type": "display_data"
    }
   ],
   "source": [
    "#Target variable is \"Label\"\n",
    "X = df_prepped.drop(\"Label\", axis=1)\n",
    "y = df_prepped.Label\n",
    "\n",
    "sns.set(font_scale=1)\n",
    "sns.countplot(y)"
   ]
  },
  {
   "cell_type": "code",
   "execution_count": 17,
   "metadata": {},
   "outputs": [
    {
     "name": "stdout",
     "output_type": "stream",
     "text": [
      "Counter({0: 7313104, 1: 576191})\n",
      "Counter({0: 576191, 1: 576191})\n"
     ]
    }
   ],
   "source": [
    "# Undersample imbalanced dataset with NearMiss-1\n",
    "from collections import Counter\n",
    "from sklearn.datasets import make_classification\n",
    "from imblearn.under_sampling import NearMiss\n",
    "from matplotlib import pyplot\n",
    "from numpy import where\n",
    "from numpy import where\n",
    "\n",
    "counter = Counter(y)\n",
    "print(counter)\n",
    "# define the undersampling method\n",
    "undersample = NearMiss(version=1, n_neighbors=3)\n",
    "# transform the dataset\n",
    "X_test, y_test = undersample.fit_resample(X, y)\n",
    "# summarize the new class distribution\n",
    "counter = Counter(y_test)\n",
    "print(counter)\n",
    "\n",
    "#647"
   ]
  },
  {
   "cell_type": "code",
   "execution_count": 18,
   "metadata": {},
   "outputs": [
    {
     "data": {
      "text/plain": [
       "((1152382, 78), (1152382,))"
      ]
     },
     "execution_count": 18,
     "metadata": {},
     "output_type": "execute_result"
    }
   ],
   "source": [
    "X_test.shape, y_test.shape"
   ]
  },
  {
   "cell_type": "code",
   "execution_count": 19,
   "metadata": {},
   "outputs": [],
   "source": [
    "# Copy training set\n",
    "df_test_set = pd.concat([X_test,y_test], axis=1)"
   ]
  },
  {
   "cell_type": "code",
   "execution_count": null,
   "metadata": {},
   "outputs": [],
   "source": []
  },
  {
   "cell_type": "code",
   "execution_count": null,
   "metadata": {},
   "outputs": [],
   "source": [
    "df_test_set.shape"
   ]
  },
  {
   "cell_type": "markdown",
   "metadata": {},
   "source": [
    "## Export Data"
   ]
  },
  {
   "cell_type": "code",
   "execution_count": 20,
   "metadata": {},
   "outputs": [
    {
     "data": {
      "text/plain": [
       "1    576191\n",
       "0    576191\n",
       "Name: Label, dtype: int64"
      ]
     },
     "execution_count": 20,
     "metadata": {},
     "output_type": "execute_result"
    }
   ],
   "source": [
    "df_test_set[\"Label\"].value_counts()"
   ]
  },
  {
   "cell_type": "code",
   "execution_count": 21,
   "metadata": {},
   "outputs": [
    {
     "name": "stdout",
     "output_type": "stream",
     "text": [
      "<class 'pandas.core.frame.DataFrame'>\n",
      "RangeIndex: 1152382 entries, 0 to 1152381\n",
      "Data columns (total 79 columns):\n",
      "Dst Port             1152382 non-null int64\n",
      "Protocol             1152382 non-null int64\n",
      "Flow Duration        1152382 non-null int64\n",
      "Tot Fwd Pkts         1152382 non-null int64\n",
      "Tot Bwd Pkts         1152382 non-null int64\n",
      "TotLen Fwd Pkts      1152382 non-null float64\n",
      "TotLen Bwd Pkts      1152382 non-null float64\n",
      "Fwd Pkt Len Max      1152382 non-null float64\n",
      "Fwd Pkt Len Min      1152382 non-null float64\n",
      "Fwd Pkt Len Mean     1152382 non-null float64\n",
      "Fwd Pkt Len Std      1152382 non-null float64\n",
      "Bwd Pkt Len Max      1152382 non-null float64\n",
      "Bwd Pkt Len Min      1152382 non-null float64\n",
      "Bwd Pkt Len Mean     1152382 non-null float64\n",
      "Bwd Pkt Len Std      1152382 non-null float64\n",
      "Flow Byts/s          1152382 non-null float64\n",
      "Flow Pkts/s          1152382 non-null float64\n",
      "Flow IAT Mean        1152382 non-null float64\n",
      "Flow IAT Std         1152382 non-null float64\n",
      "Flow IAT Max         1152382 non-null float64\n",
      "Flow IAT Min         1152382 non-null float64\n",
      "Fwd IAT Tot          1152382 non-null float64\n",
      "Fwd IAT Mean         1152382 non-null float64\n",
      "Fwd IAT Std          1152382 non-null float64\n",
      "Fwd IAT Max          1152382 non-null float64\n",
      "Fwd IAT Min          1152382 non-null float64\n",
      "Bwd IAT Tot          1152382 non-null float64\n",
      "Bwd IAT Mean         1152382 non-null float64\n",
      "Bwd IAT Std          1152382 non-null float64\n",
      "Bwd IAT Max          1152382 non-null float64\n",
      "Bwd IAT Min          1152382 non-null float64\n",
      "Fwd PSH Flags        1152382 non-null int64\n",
      "Bwd PSH Flags        1152382 non-null int64\n",
      "Fwd URG Flags        1152382 non-null int64\n",
      "Bwd URG Flags        1152382 non-null int64\n",
      "Fwd Header Len       1152382 non-null int64\n",
      "Bwd Header Len       1152382 non-null int64\n",
      "Fwd Pkts/s           1152382 non-null float64\n",
      "Bwd Pkts/s           1152382 non-null float64\n",
      "Pkt Len Min          1152382 non-null float64\n",
      "Pkt Len Max          1152382 non-null float64\n",
      "Pkt Len Mean         1152382 non-null float64\n",
      "Pkt Len Std          1152382 non-null float64\n",
      "Pkt Len Var          1152382 non-null float64\n",
      "FIN Flag Cnt         1152382 non-null int64\n",
      "SYN Flag Cnt         1152382 non-null int64\n",
      "RST Flag Cnt         1152382 non-null int64\n",
      "PSH Flag Cnt         1152382 non-null int64\n",
      "ACK Flag Cnt         1152382 non-null int64\n",
      "URG Flag Cnt         1152382 non-null int64\n",
      "CWE Flag Count       1152382 non-null int64\n",
      "ECE Flag Cnt         1152382 non-null int64\n",
      "Down/Up Ratio        1152382 non-null float64\n",
      "Pkt Size Avg         1152382 non-null float64\n",
      "Fwd Seg Size Avg     1152382 non-null float64\n",
      "Bwd Seg Size Avg     1152382 non-null float64\n",
      "Fwd Byts/b Avg       1152382 non-null int64\n",
      "Fwd Pkts/b Avg       1152382 non-null int64\n",
      "Fwd Blk Rate Avg     1152382 non-null int64\n",
      "Bwd Byts/b Avg       1152382 non-null int64\n",
      "Bwd Pkts/b Avg       1152382 non-null int64\n",
      "Bwd Blk Rate Avg     1152382 non-null int64\n",
      "Subflow Fwd Pkts     1152382 non-null int64\n",
      "Subflow Fwd Byts     1152382 non-null int64\n",
      "Subflow Bwd Pkts     1152382 non-null int64\n",
      "Subflow Bwd Byts     1152382 non-null int64\n",
      "Init Fwd Win Byts    1152382 non-null int64\n",
      "Init Bwd Win Byts    1152382 non-null int64\n",
      "Fwd Act Data Pkts    1152382 non-null int64\n",
      "Fwd Seg Size Min     1152382 non-null int64\n",
      "Active Mean          1152382 non-null float64\n",
      "Active Std           1152382 non-null float64\n",
      "Active Max           1152382 non-null float64\n",
      "Active Min           1152382 non-null float64\n",
      "Idle Mean            1152382 non-null float64\n",
      "Idle Std             1152382 non-null float64\n",
      "Idle Max             1152382 non-null float64\n",
      "Idle Min             1152382 non-null float64\n",
      "Label                1152382 non-null int64\n",
      "dtypes: float64(45), int64(34)\n",
      "memory usage: 694.6 MB\n"
     ]
    }
   ],
   "source": [
    "df_test_set.info()"
   ]
  },
  {
   "cell_type": "markdown",
   "metadata": {},
   "source": [
    "#### Honestly unsure if I need to export to CSV if I have PKL file"
   ]
  },
  {
   "cell_type": "code",
   "execution_count": 22,
   "metadata": {},
   "outputs": [],
   "source": [
    "df_test_set.to_csv(\"../../../Downloads/CSC IDS 2018/SMOTE-Tuesday-20-02-2018_TrafficForML_CICFlowMeter.csv\")"
   ]
  },
  {
   "cell_type": "code",
   "execution_count": 24,
   "metadata": {},
   "outputs": [],
   "source": [
    "df_test_set.to_pickle(\"../../../Downloads/CSC IDS 2018/SMOTE-Tuesday-20-02-2018_TrafficForML_CICFlowMeter.pkl\")"
   ]
  },
  {
   "cell_type": "code",
   "execution_count": 25,
   "metadata": {},
   "outputs": [
    {
     "name": "stdout",
     "output_type": "stream",
     "text": [
      "<class 'pandas.core.frame.DataFrame'>\n",
      "RangeIndex: 7889295 entries, 0 to 7889294\n",
      "Data columns (total 79 columns):\n",
      "Dst Port             int64\n",
      "Protocol             int64\n",
      "Flow Duration        int64\n",
      "Tot Fwd Pkts         int64\n",
      "Tot Bwd Pkts         int64\n",
      "TotLen Fwd Pkts      float64\n",
      "TotLen Bwd Pkts      float64\n",
      "Fwd Pkt Len Max      float64\n",
      "Fwd Pkt Len Min      float64\n",
      "Fwd Pkt Len Mean     float64\n",
      "Fwd Pkt Len Std      float64\n",
      "Bwd Pkt Len Max      float64\n",
      "Bwd Pkt Len Min      float64\n",
      "Bwd Pkt Len Mean     float64\n",
      "Bwd Pkt Len Std      float64\n",
      "Flow Byts/s          float64\n",
      "Flow Pkts/s          float64\n",
      "Flow IAT Mean        float64\n",
      "Flow IAT Std         float64\n",
      "Flow IAT Max         float64\n",
      "Flow IAT Min         float64\n",
      "Fwd IAT Tot          float64\n",
      "Fwd IAT Mean         float64\n",
      "Fwd IAT Std          float64\n",
      "Fwd IAT Max          float64\n",
      "Fwd IAT Min          float64\n",
      "Bwd IAT Tot          float64\n",
      "Bwd IAT Mean         float64\n",
      "Bwd IAT Std          float64\n",
      "Bwd IAT Max          float64\n",
      "Bwd IAT Min          float64\n",
      "Fwd PSH Flags        int64\n",
      "Bwd PSH Flags        int64\n",
      "Fwd URG Flags        int64\n",
      "Bwd URG Flags        int64\n",
      "Fwd Header Len       int64\n",
      "Bwd Header Len       int64\n",
      "Fwd Pkts/s           float64\n",
      "Bwd Pkts/s           float64\n",
      "Pkt Len Min          float64\n",
      "Pkt Len Max          float64\n",
      "Pkt Len Mean         float64\n",
      "Pkt Len Std          float64\n",
      "Pkt Len Var          float64\n",
      "FIN Flag Cnt         int64\n",
      "SYN Flag Cnt         int64\n",
      "RST Flag Cnt         int64\n",
      "PSH Flag Cnt         int64\n",
      "ACK Flag Cnt         int64\n",
      "URG Flag Cnt         int64\n",
      "CWE Flag Count       int64\n",
      "ECE Flag Cnt         int64\n",
      "Down/Up Ratio        float64\n",
      "Pkt Size Avg         float64\n",
      "Fwd Seg Size Avg     float64\n",
      "Bwd Seg Size Avg     float64\n",
      "Fwd Byts/b Avg       int64\n",
      "Fwd Pkts/b Avg       int64\n",
      "Fwd Blk Rate Avg     int64\n",
      "Bwd Byts/b Avg       int64\n",
      "Bwd Pkts/b Avg       int64\n",
      "Bwd Blk Rate Avg     int64\n",
      "Subflow Fwd Pkts     int64\n",
      "Subflow Fwd Byts     int64\n",
      "Subflow Bwd Pkts     int64\n",
      "Subflow Bwd Byts     int64\n",
      "Init Fwd Win Byts    int64\n",
      "Init Bwd Win Byts    int64\n",
      "Fwd Act Data Pkts    int64\n",
      "Fwd Seg Size Min     int64\n",
      "Active Mean          float64\n",
      "Active Std           float64\n",
      "Active Max           float64\n",
      "Active Min           float64\n",
      "Idle Mean            float64\n",
      "Idle Std             float64\n",
      "Idle Max             float64\n",
      "Idle Min             float64\n",
      "Label                int64\n",
      "dtypes: float64(45), int64(34)\n",
      "memory usage: 4.6 GB\n"
     ]
    }
   ],
   "source": [
    "df_prepped.info()"
   ]
  },
  {
   "cell_type": "code",
   "execution_count": 26,
   "metadata": {},
   "outputs": [],
   "source": [
    "df_prepped.to_csv(\"../../../Downloads/CSC IDS 2018/Processed2-Tuesday-20-02-2018_TrafficForML_CICFlowMeter.csv\")"
   ]
  },
  {
   "cell_type": "markdown",
   "metadata": {},
   "source": [
    "# EOF"
   ]
  }
 ],
 "metadata": {
  "kernelspec": {
   "display_name": "Python 3",
   "language": "python",
   "name": "python3"
  },
  "language_info": {
   "codemirror_mode": {
    "name": "ipython",
    "version": 3
   },
   "file_extension": ".py",
   "mimetype": "text/x-python",
   "name": "python",
   "nbconvert_exporter": "python",
   "pygments_lexer": "ipython3",
   "version": "3.7.4"
  }
 },
 "nbformat": 4,
 "nbformat_minor": 2
}
